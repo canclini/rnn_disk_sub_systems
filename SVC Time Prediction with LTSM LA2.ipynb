{
 "cells": [
  {
   "cell_type": "markdown",
   "metadata": {
    "collapsed": true,
    "deletable": true,
    "editable": true
   },
   "source": [
    "Code von der Blog Seite: \n",
    "    http://machinelearningmastery.com/time-series-prediction-lstm-recurrent-neural-networks-python-keras/"
   ]
  },
  {
   "cell_type": "code",
   "execution_count": 1,
   "metadata": {
    "collapsed": false,
    "deletable": true,
    "editable": true
   },
   "outputs": [],
   "source": [
    "import gzip\n",
    "import numpy as np\n",
    "import matplotlib.pyplot as plt\n",
    "import matplotlib.image as imgplot\n",
    "import pandas as pd\n",
    "import time\n",
    "import datetime\n",
    "%matplotlib inline\n",
    "\n",
    "def dateparse (ts_str):    \n",
    "    return datetime.datetime.strptime(ts_str, '%Y%m%d_%H:%M:%S')\n",
    "\n",
    "df = pd.read_csv('data/LU_dat/VSP_86303/all_together.csv.gz', compression='gzip', index_col='timestamp', parse_dates=True, date_parser=dateparse)"
   ]
  },
  {
   "cell_type": "code",
   "execution_count": 2,
   "metadata": {
    "collapsed": false,
    "deletable": true,
    "editable": true
   },
   "outputs": [
    {
     "data": {
      "image/png": "[encoded data removed]",
      "text/plain": [
       "<matplotlib.figure.Figure at 0x1102e3320>"
      ]
     },
     "metadata": {},
     "output_type": "display_data"
    }
   ],
   "source": [
    "dataset = df[df['PQ_SVCT'] < 15000]['PQ_SVCT']\n",
    "plt.plot(dataset)\n",
    "plt.show()"
   ]
  },
  {
   "cell_type": "code",
   "execution_count": 3,
   "metadata": {
    "collapsed": false,
    "deletable": true,
    "editable": true
   },
   "outputs": [
    {
     "name": "stderr",
     "output_type": "stream",
     "text": [
      "Using TensorFlow backend.\n"
     ]
    }
   ],
   "source": [
    "import numpy\n",
    "import matplotlib.pyplot as plt\n",
    "import pandas\n",
    "import math\n",
    "from keras.models import Sequential\n",
    "from keras.layers import Dense\n",
    "from keras.layers import LSTM\n",
    "from sklearn.preprocessing import MinMaxScaler\n",
    "from sklearn.metrics import mean_squared_error"
   ]
  },
  {
   "cell_type": "code",
   "execution_count": 4,
   "metadata": {
    "collapsed": true,
    "deletable": true,
    "editable": true
   },
   "outputs": [],
   "source": [
    "# fix random seed for reproducibility\n",
    "numpy.random.seed(7)"
   ]
  },
  {
   "cell_type": "code",
   "execution_count": 5,
   "metadata": {
    "collapsed": false,
    "deletable": true,
    "editable": true
   },
   "outputs": [],
   "source": [
    "# load the dataset\n",
    "dataframe = dataset = df[df['PQ_SVCT'] < 15000]['PQ_SVCT']\n",
    "dataset = dataframe.values\n",
    "dataset = dataset.astype('float32')"
   ]
  },
  {
   "cell_type": "code",
   "execution_count": 6,
   "metadata": {
    "collapsed": false,
    "deletable": true,
    "editable": true
   },
   "outputs": [
    {
     "name": "stderr",
     "output_type": "stream",
     "text": [
      "/usr/local/lib/python3.5/site-packages/sklearn/preprocessing/data.py:321: DeprecationWarning: Passing 1d arrays as data is deprecated in 0.17 and will raise ValueError in 0.19. Reshape your data either using X.reshape(-1, 1) if your data has a single feature or X.reshape(1, -1) if it contains a single sample.\n",
      "  warnings.warn(DEPRECATION_MSG_1D, DeprecationWarning)\n",
      "/usr/local/lib/python3.5/site-packages/sklearn/preprocessing/data.py:356: DeprecationWarning: Passing 1d arrays as data is deprecated in 0.17 and will raise ValueError in 0.19. Reshape your data either using X.reshape(-1, 1) if your data has a single feature or X.reshape(1, -1) if it contains a single sample.\n",
      "  warnings.warn(DEPRECATION_MSG_1D, DeprecationWarning)\n"
     ]
    }
   ],
   "source": [
    "# normalize the dataset\n",
    "scaler = MinMaxScaler(feature_range=(0, 1))\n",
    "dataset = scaler.fit_transform(dataset)"
   ]
  },
  {
   "cell_type": "code",
   "execution_count": 7,
   "metadata": {
    "collapsed": false,
    "deletable": true,
    "editable": true
   },
   "outputs": [
    {
     "name": "stdout",
     "output_type": "stream",
     "text": [
      "177058 87208\n"
     ]
    }
   ],
   "source": [
    "# split into train and test sets\n",
    "train_size = int(len(dataset) * 0.67)\n",
    "test_size = len(dataset) - train_size\n",
    "train, test = dataset[0:train_size], dataset[train_size:len(dataset)]\n",
    "print(len(train), len(test))"
   ]
  },
  {
   "cell_type": "code",
   "execution_count": 8,
   "metadata": {
    "collapsed": false,
    "deletable": true,
    "editable": true
   },
   "outputs": [],
   "source": [
    "# convert an array of values into a dataset matrix\n",
    "def create_dataset(dataset, look_back=1):\n",
    "\tdataX, dataY = [], []\n",
    "\tfor i in range(len(dataset)-look_back-1):\n",
    "\t\ta = dataset[i:(i+look_back)]\n",
    "\t\tdataX.append(a)\n",
    "\t\tdataY.append(dataset[i + look_back])\n",
    "\treturn numpy.array(dataX), numpy.array(dataY)"
   ]
  },
  {
   "cell_type": "code",
   "execution_count": 9,
   "metadata": {
    "collapsed": false,
    "deletable": true,
    "editable": true
   },
   "outputs": [],
   "source": [
    "# reshape into X=t and Y=t+1\n",
    "look_back = 2\n",
    "trainX, trainY = create_dataset(train, look_back)\n",
    "testX, testY = create_dataset(test, look_back)"
   ]
  },
  {
   "cell_type": "code",
   "execution_count": 10,
   "metadata": {
    "collapsed": true,
    "deletable": true,
    "editable": true
   },
   "outputs": [],
   "source": [
    "# reshape input to be [samples, time steps, features]\n",
    "trainX = numpy.reshape(trainX, (trainX.shape[0], 1, trainX.shape[1]))\n",
    "testX = numpy.reshape(testX, (testX.shape[0], 1, testX.shape[1]))"
   ]
  },
  {
   "cell_type": "code",
   "execution_count": 14,
   "metadata": {
    "collapsed": false,
    "deletable": true,
    "editable": true
   },
   "outputs": [
    {
     "name": "stdout",
     "output_type": "stream",
     "text": [
      "177058\n",
      "_________________________________________________________________\n",
      "Layer (type)                 Output Shape              Param #   \n",
      "=================================================================\n",
      "lstm_2 (LSTM)                (None, 4)                 112       \n",
      "_________________________________________________________________\n",
      "dense_2 (Dense)              (None, 1)                 5         \n",
      "=================================================================\n",
      "Total params: 117.0\n",
      "Trainable params: 117\n",
      "Non-trainable params: 0.0\n",
      "_________________________________________________________________\n"
     ]
    }
   ],
   "source": [
    "# create and fit the LSTM network\n",
    "print(len(train))\n",
    "model = Sequential()\n",
    "model.add(LSTM(4, input_shape=(1,look_back)))\n",
    "model.add(Dense(1))\n",
    "model.compile(loss='mean_squared_error', optimizer='adam')\n",
    "model.summary()"
   ]
  },
  {
   "cell_type": "code",
   "execution_count": 15,
   "metadata": {
    "collapsed": false,
    "deletable": true,
    "editable": true
   },
   "outputs": [
    {
     "name": "stdout",
     "output_type": "stream",
     "text": [
      "Epoch 1/100\n",
      "805s - loss: 4.4808e-04\n",
      "Epoch 2/100\n",
      "800s - loss: 4.3492e-04\n",
      "Epoch 3/100\n",
      "800s - loss: 4.3500e-04\n",
      "Epoch 4/100\n",
      "801s - loss: 4.3516e-04\n",
      "Epoch 5/100\n",
      "801s - loss: 4.3446e-04\n",
      "Epoch 6/100\n",
      "802s - loss: 4.2634e-04\n",
      "Epoch 7/100\n",
      "801s - loss: 4.2505e-04\n",
      "Epoch 8/100\n",
      "800s - loss: 4.2311e-04\n",
      "Epoch 9/100\n",
      "799s - loss: 4.2403e-04\n",
      "Epoch 10/100\n",
      "812s - loss: 4.2127e-04\n",
      "Epoch 11/100\n",
      "802s - loss: 4.1887e-04\n",
      "Epoch 12/100\n",
      "867s - loss: 4.1849e-04\n",
      "Epoch 13/100\n",
      "857s - loss: 4.2039e-04\n",
      "Epoch 14/100\n",
      "808s - loss: 4.2027e-04\n",
      "Epoch 15/100\n",
      "803s - loss: 4.1935e-04\n",
      "Epoch 16/100\n",
      "802s - loss: 4.1952e-04\n",
      "Epoch 17/100\n",
      "802s - loss: 4.1858e-04\n",
      "Epoch 18/100\n",
      "802s - loss: 4.1777e-04\n",
      "Epoch 19/100\n",
      "828s - loss: 4.1979e-04\n",
      "Epoch 20/100\n",
      "837s - loss: 4.1895e-04\n",
      "Epoch 21/100\n",
      "803s - loss: 4.1941e-04\n",
      "Epoch 22/100\n",
      "800s - loss: 4.1757e-04\n",
      "Epoch 23/100\n",
      "801s - loss: 4.1888e-04\n",
      "Epoch 24/100\n",
      "801s - loss: 4.1836e-04\n",
      "Epoch 25/100\n",
      "801s - loss: 4.1870e-04\n",
      "Epoch 26/100\n",
      "799s - loss: 4.1933e-04\n",
      "Epoch 27/100\n",
      "800s - loss: 4.1783e-04\n",
      "Epoch 28/100\n",
      "799s - loss: 4.1862e-04\n",
      "Epoch 29/100\n",
      "799s - loss: 4.1705e-04\n",
      "Epoch 30/100\n",
      "800s - loss: 4.1816e-04\n",
      "Epoch 31/100\n",
      "799s - loss: 4.1901e-04\n",
      "Epoch 32/100\n",
      "799s - loss: 4.1811e-04\n",
      "Epoch 33/100\n",
      "798s - loss: 4.1795e-04\n",
      "Epoch 34/100\n",
      "798s - loss: 4.1721e-04\n",
      "Epoch 35/100\n",
      "798s - loss: 4.1764e-04\n",
      "Epoch 36/100\n",
      "798s - loss: 4.1902e-04\n",
      "Epoch 37/100\n",
      "799s - loss: 4.1750e-04\n",
      "Epoch 38/100\n",
      "798s - loss: 4.1616e-04\n",
      "Epoch 39/100\n",
      "799s - loss: 4.1820e-04\n",
      "Epoch 40/100\n",
      "799s - loss: 4.1727e-04\n",
      "Epoch 41/100\n",
      "798s - loss: 4.1768e-04\n",
      "Epoch 42/100\n",
      "798s - loss: 4.1698e-04\n",
      "Epoch 43/100\n",
      "799s - loss: 4.1746e-04\n",
      "Epoch 44/100\n",
      "798s - loss: 4.1636e-04\n",
      "Epoch 45/100\n",
      "798s - loss: 4.1703e-04\n",
      "Epoch 46/100\n",
      "799s - loss: 4.1612e-04\n",
      "Epoch 47/100\n",
      "798s - loss: 4.1828e-04\n",
      "Epoch 48/100\n",
      "798s - loss: 4.1721e-04\n",
      "Epoch 49/100\n",
      "798s - loss: 4.1783e-04\n",
      "Epoch 50/100\n",
      "798s - loss: 4.1719e-04\n",
      "Epoch 51/100\n",
      "798s - loss: 4.1663e-04\n",
      "Epoch 52/100\n",
      "801s - loss: 4.1741e-04\n",
      "Epoch 53/100\n",
      "799s - loss: 4.1733e-04\n",
      "Epoch 54/100\n",
      "799s - loss: 4.1806e-04\n",
      "Epoch 55/100\n",
      "800s - loss: 4.1766e-04\n",
      "Epoch 56/100\n",
      "800s - loss: 4.1741e-04\n",
      "Epoch 57/100\n",
      "799s - loss: 4.1787e-04\n",
      "Epoch 58/100\n",
      "799s - loss: 4.1723e-04\n",
      "Epoch 59/100\n",
      "799s - loss: 4.1676e-04\n",
      "Epoch 60/100\n",
      "800s - loss: 4.1818e-04\n",
      "Epoch 61/100\n",
      "799s - loss: 4.1690e-04\n",
      "Epoch 62/100\n",
      "798s - loss: 4.1764e-04\n",
      "Epoch 63/100\n",
      "798s - loss: 4.1778e-04\n",
      "Epoch 64/100\n",
      "799s - loss: 4.1741e-04\n",
      "Epoch 65/100\n",
      "798s - loss: 4.1837e-04\n",
      "Epoch 66/100\n",
      "799s - loss: 4.1836e-04\n",
      "Epoch 67/100\n",
      "798s - loss: 4.1851e-04\n",
      "Epoch 68/100\n",
      "798s - loss: 4.1657e-04\n",
      "Epoch 69/100\n",
      "797s - loss: 4.1808e-04\n",
      "Epoch 70/100\n",
      "798s - loss: 4.1631e-04\n",
      "Epoch 71/100\n",
      "798s - loss: 4.1873e-04\n",
      "Epoch 72/100\n",
      "798s - loss: 4.1761e-04\n",
      "Epoch 73/100\n",
      "798s - loss: 4.1568e-04\n",
      "Epoch 74/100\n",
      "799s - loss: 4.1771e-04\n",
      "Epoch 75/100\n",
      "799s - loss: 4.1722e-04\n",
      "Epoch 76/100\n",
      "798s - loss: 4.1794e-04\n",
      "Epoch 77/100\n",
      "798s - loss: 4.1788e-04\n",
      "Epoch 78/100\n",
      "799s - loss: 4.1808e-04\n",
      "Epoch 79/100\n",
      "798s - loss: 4.1770e-04\n",
      "Epoch 80/100\n",
      "799s - loss: 4.1775e-04\n",
      "Epoch 81/100\n",
      "799s - loss: 4.1618e-04\n",
      "Epoch 82/100\n",
      "798s - loss: 4.1634e-04\n",
      "Epoch 83/100\n",
      "799s - loss: 4.1776e-04\n",
      "Epoch 84/100\n",
      "799s - loss: 4.1705e-04\n",
      "Epoch 85/100\n",
      "799s - loss: 4.1759e-04\n",
      "Epoch 86/100\n",
      "798s - loss: 4.1895e-04\n",
      "Epoch 87/100\n",
      "799s - loss: 4.1723e-04\n",
      "Epoch 88/100\n",
      "799s - loss: 4.1746e-04\n",
      "Epoch 89/100\n",
      "799s - loss: 4.1730e-04\n",
      "Epoch 90/100\n",
      "800s - loss: 4.1665e-04\n",
      "Epoch 91/100\n",
      "800s - loss: 4.1810e-04\n",
      "Epoch 92/100\n",
      "799s - loss: 4.1845e-04\n",
      "Epoch 93/100\n",
      "798s - loss: 4.1814e-04\n",
      "Epoch 94/100\n",
      "798s - loss: 4.1690e-04\n",
      "Epoch 95/100\n",
      "798s - loss: 4.1740e-04\n",
      "Epoch 96/100\n",
      "799s - loss: 4.1781e-04\n",
      "Epoch 97/100\n",
      "826s - loss: 4.1816e-04\n",
      "Epoch 98/100\n",
      "800s - loss: 4.1744e-04\n",
      "Epoch 99/100\n",
      "799s - loss: 4.1838e-04\n",
      "Epoch 100/100\n",
      "798s - loss: 4.1714e-04\n"
     ]
    },
    {
     "data": {
      "text/plain": [
       "<keras.callbacks.History at 0x1184ec9b0>"
      ]
     },
     "execution_count": 15,
     "metadata": {},
     "output_type": "execute_result"
    }
   ],
   "source": [
    "model.fit(trainX, trainY, epochs=100, batch_size=1, verbose=2)"
   ]
  },
  {
   "cell_type": "code",
   "execution_count": 16,
   "metadata": {
    "collapsed": false,
    "deletable": true,
    "editable": true
   },
   "outputs": [
    {
     "name": "stdout",
     "output_type": "stream",
     "text": [
      "Train Score: 1.12 RMSE\n",
      "Test Score: 1.11 RMSE\n"
     ]
    }
   ],
   "source": [
    "# make predictions\n",
    "trainPredict = model.predict(trainX)\n",
    "testPredict = model.predict(testX)\n",
    "# invert predictions\n",
    "trainPredict = scaler.inverse_transform(trainPredict)\n",
    "invTrainY = scaler.inverse_transform([trainY])\n",
    "testPredict = scaler.inverse_transform(testPredict)\n",
    "invTestY = scaler.inverse_transform([testY])\n",
    "# calculate root mean squared error\n",
    "trainScore = math.sqrt(mean_squared_error(invTrainY[0], trainPredict[:,0]))\n",
    "print('Train Score: %.2f RMSE' % (trainScore))\n",
    "testScore = math.sqrt(mean_squared_error(invTestY[0], testPredict[:,0]))\n",
    "print('Test Score: %.2f RMSE' % (testScore))"
   ]
  },
  {
   "cell_type": "code",
   "execution_count": 18,
   "metadata": {
    "collapsed": false,
    "deletable": true,
    "editable": true
   },
   "outputs": [
    {
     "name": "stderr",
     "output_type": "stream",
     "text": [
      "/usr/local/lib/python3.5/site-packages/sklearn/preprocessing/data.py:374: DeprecationWarning: Passing 1d arrays as data is deprecated in 0.17 and will raise ValueError in 0.19. Reshape your data either using X.reshape(-1, 1) if your data has a single feature or X.reshape(1, -1) if it contains a single sample.\n",
      "  warnings.warn(DEPRECATION_MSG_1D, DeprecationWarning)\n"
     ]
    },
    {
     "data": {
      "image/png": "[encoded data removed]",
      "text/plain": [
       "<matplotlib.figure.Figure at 0x1146aa9b0>"
      ]
     },
     "metadata": {},
     "output_type": "display_data"
    }
   ],
   "source": [
    "# shift train predictions for plotting\n",
    "trainPredictPlot = numpy.empty_like(dataset)\n",
    "trainPredictPlot[:] = numpy.nan\n",
    "trainPredictPlot[look_back:len(trainPredict)+look_back] = np.reshape(trainPredict, len(trainPredict))\n",
    "# shift test predictions for plotting\n",
    "testPredictPlot = numpy.empty_like(dataset)\n",
    "testPredictPlot[:] = numpy.nan\n",
    "testPredictPlot[len(trainPredict)+(look_back*2)+1:len(dataset)-1] = np.reshape(testPredict, len(testPredict))\n",
    "# plot baseline and predictions\n",
    "plt.plot(scaler.inverse_transform(dataset))\n",
    "plt.plot(trainPredictPlot)\n",
    "plt.plot(testPredictPlot)\n",
    "plt.show()"
   ]
  },
  {
   "cell_type": "code",
   "execution_count": 19,
   "metadata": {
    "collapsed": false,
    "deletable": true,
    "editable": true
   },
   "outputs": [
    {
     "name": "stderr",
     "output_type": "stream",
     "text": [
      "/usr/local/lib/python3.5/site-packages/sklearn/preprocessing/data.py:374: DeprecationWarning: Passing 1d arrays as data is deprecated in 0.17 and will raise ValueError in 0.19. Reshape your data either using X.reshape(-1, 1) if your data has a single feature or X.reshape(1, -1) if it contains a single sample.\n",
      "  warnings.warn(DEPRECATION_MSG_1D, DeprecationWarning)\n"
     ]
    },
    {
     "data": {
      "text/plain": [
       "[<matplotlib.lines.Line2D at 0x118865e10>]"
      ]
     },
     "execution_count": 19,
     "metadata": {},
     "output_type": "execute_result"
    },
    {
     "data": {
      "image/png": "[encoded data removed]",
      "text/plain": [
       "<matplotlib.figure.Figure at 0x1184ecc50>"
      ]
     },
     "metadata": {},
     "output_type": "display_data"
    }
   ],
   "source": [
    "plt.plot(scaler.inverse_transform(dataset)[len(trainPredictPlot):len(trainPredictPlot)+100])\n",
    "plt.plot(trainPredictPlot[1:100])"
   ]
  },
  {
   "cell_type": "code",
   "execution_count": 17,
   "metadata": {
    "collapsed": false,
    "deletable": true,
    "editable": true
   },
   "outputs": [],
   "source": [
    "model.save('LA2.h5')"
   ]
  }
 ],
 "metadata": {
  "kernelspec": {
   "display_name": "Python 3",
   "language": "python",
   "name": "python3"
  },
  "language_info": {
   "codemirror_mode": {
    "name": "ipython",
    "version": 3
   },
   "file_extension": ".py",
   "mimetype": "text/x-python",
   "name": "python",
   "nbconvert_exporter": "python",
   "pygments_lexer": "ipython3",
   "version": "3.5.1"
  }
 },
 "nbformat": 4,
 "nbformat_minor": 2
}
