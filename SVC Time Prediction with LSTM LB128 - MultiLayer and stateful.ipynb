{
 "cells": [
  {
   "cell_type": "markdown",
   "metadata": {
    "collapsed": true,
    "deletable": true,
    "editable": true
   },
   "source": [
    "Code von der Blog Seite: \n",
    "    http://machinelearningmastery.com/time-series-prediction-lstm-recurrent-neural-networks-python-keras/"
   ]
  },
  {
   "cell_type": "code",
   "execution_count": 1,
   "metadata": {
    "collapsed": false,
    "deletable": true,
    "editable": true
   },
   "outputs": [],
   "source": [
    "import gzip\n",
    "import numpy as np\n",
    "import matplotlib.pyplot as plt\n",
    "import matplotlib.image as imgplot\n",
    "import pandas as pd\n",
    "import time\n",
    "import datetime\n",
    "%matplotlib inline\n",
    "\n",
    "def dateparse (ts_str):    \n",
    "    return datetime.datetime.strptime(ts_str, '%Y%m%d_%H:%M:%S')\n",
    "\n",
    "df = pd.read_csv('data/LU_dat/VSP_86303/all_together.csv.gz', compression='gzip', index_col='timestamp', parse_dates=True, date_parser=dateparse)"
   ]
  },
  {
   "cell_type": "code",
   "execution_count": 2,
   "metadata": {
    "collapsed": false,
    "deletable": true,
    "editable": true
   },
   "outputs": [
    {
     "data": {
      "image/png": "[encoded data removed]",
      "text/plain": [
       "<matplotlib.figure.Figure at 0x10911de80>"
      ]
     },
     "metadata": {},
     "output_type": "display_data"
    }
   ],
   "source": [
    "dataset = df[df['PQ_SVCT'] < 15000]['PQ_SVCT']\n",
    "plt.plot(dataset)\n",
    "plt.show()"
   ]
  },
  {
   "cell_type": "code",
   "execution_count": 80,
   "metadata": {
    "collapsed": false,
    "deletable": true,
    "editable": true
   },
   "outputs": [],
   "source": [
    "import numpy\n",
    "import matplotlib.pyplot as plt\n",
    "import pandas\n",
    "import math\n",
    "from keras.models import Sequential\n",
    "from keras.models import load_model\n",
    "from keras.layers import Dense, LSTM, Dropout, BatchNormalization\n",
    "\n",
    "from sklearn.preprocessing import MinMaxScaler\n",
    "from sklearn.metrics import mean_squared_error"
   ]
  },
  {
   "cell_type": "code",
   "execution_count": 4,
   "metadata": {
    "collapsed": true,
    "deletable": true,
    "editable": true
   },
   "outputs": [],
   "source": [
    "# fix random seed for reproducibility\n",
    "numpy.random.seed(7)\n",
    "\n",
    "look_back = 40\n",
    "batch_size = 32\n",
    "train_ratio = 0.7"
   ]
  },
  {
   "cell_type": "code",
   "execution_count": 5,
   "metadata": {
    "collapsed": false,
    "deletable": true,
    "editable": true
   },
   "outputs": [],
   "source": [
    "# load the dataset\n",
    "dataframe = dataset = df[df['PQ_SVCT'] < 15000]['PQ_SVCT']\n",
    "dataset = dataframe.values\n",
    "dataset = dataset.astype('float32')"
   ]
  },
  {
   "cell_type": "code",
   "execution_count": 6,
   "metadata": {
    "collapsed": false,
    "deletable": true,
    "editable": true
   },
   "outputs": [
    {
     "name": "stdout",
     "output_type": "stream",
     "text": [
      "184928\n"
     ]
    }
   ],
   "source": [
    "# cut dataframe\n",
    "# 175104\n",
    "factor = int((len(dataset) * train_ratio - look_back) / batch_size)\n",
    "print(factor * batch_size)\n",
    "dataset = dataset[:250208,]"
   ]
  },
  {
   "cell_type": "code",
   "execution_count": 7,
   "metadata": {
    "collapsed": false,
    "deletable": true,
    "editable": true
   },
   "outputs": [
    {
     "name": "stderr",
     "output_type": "stream",
     "text": [
      "/usr/local/lib/python3.5/site-packages/sklearn/preprocessing/data.py:321: DeprecationWarning: Passing 1d arrays as data is deprecated in 0.17 and will raise ValueError in 0.19. Reshape your data either using X.reshape(-1, 1) if your data has a single feature or X.reshape(1, -1) if it contains a single sample.\n",
      "  warnings.warn(DEPRECATION_MSG_1D, DeprecationWarning)\n",
      "/usr/local/lib/python3.5/site-packages/sklearn/preprocessing/data.py:356: DeprecationWarning: Passing 1d arrays as data is deprecated in 0.17 and will raise ValueError in 0.19. Reshape your data either using X.reshape(-1, 1) if your data has a single feature or X.reshape(1, -1) if it contains a single sample.\n",
      "  warnings.warn(DEPRECATION_MSG_1D, DeprecationWarning)\n"
     ]
    }
   ],
   "source": [
    "# normalize the dataset\n",
    "scaler = MinMaxScaler(feature_range=(0, 1))\n",
    "dataset = scaler.fit_transform(dataset)"
   ]
  },
  {
   "cell_type": "code",
   "execution_count": 8,
   "metadata": {
    "collapsed": false,
    "deletable": true,
    "editable": true
   },
   "outputs": [
    {
     "name": "stdout",
     "output_type": "stream",
     "text": [
      "175145 75063\n"
     ]
    }
   ],
   "source": [
    "# split into train and test sets\n",
    "train_size = int(len(dataset) * train_ratio)\n",
    "test_size = len(dataset) - train_size\n",
    "train, test = dataset[0:train_size], dataset[train_size:len(dataset)]\n",
    "print(len(train), len(test))"
   ]
  },
  {
   "cell_type": "code",
   "execution_count": 9,
   "metadata": {
    "collapsed": false,
    "deletable": true,
    "editable": true
   },
   "outputs": [],
   "source": [
    "# convert an array of values into a dataset matrix\n",
    "def create_dataset(dataset, look_back=1):\n",
    "\tdataX, dataY = [], []\n",
    "\tfor i in range(len(dataset)-look_back-1):\n",
    "\t\ta = dataset[i:(i+look_back)]\n",
    "\t\tdataX.append(a)\n",
    "\t\tdataY.append(dataset[i + look_back])\n",
    "\treturn numpy.array(dataX), numpy.array(dataY)"
   ]
  },
  {
   "cell_type": "code",
   "execution_count": 10,
   "metadata": {
    "collapsed": false,
    "deletable": true,
    "editable": true
   },
   "outputs": [],
   "source": [
    "# reshape into X=t and Y=t+1\n",
    "trainX, trainY = create_dataset(train, look_back)\n",
    "testX, testY = create_dataset(test, look_back)\n",
    "#train"
   ]
  },
  {
   "cell_type": "code",
   "execution_count": 11,
   "metadata": {
    "collapsed": false,
    "deletable": true,
    "editable": true
   },
   "outputs": [
    {
     "data": {
      "text/plain": [
       "(175104, 1, 40)"
      ]
     },
     "execution_count": 11,
     "metadata": {},
     "output_type": "execute_result"
    }
   ],
   "source": [
    "# reshape input to be [samples, time steps, features]\n",
    "trainX = numpy.reshape(trainX, (trainX.shape[0], 1, trainX.shape[1]))\n",
    "testX = numpy.reshape(testX, (testX.shape[0], 1, testX.shape[1]))\n",
    "trainX.shape"
   ]
  },
  {
   "cell_type": "code",
   "execution_count": 12,
   "metadata": {
    "collapsed": false,
    "deletable": true,
    "editable": true
   },
   "outputs": [
    {
     "name": "stdout",
     "output_type": "stream",
     "text": [
      "_________________________________________________________________\n",
      "Layer (type)                 Output Shape              Param #   \n",
      "=================================================================\n",
      "lstm_1 (LSTM)                (32, 1, 32)               9344      \n",
      "_________________________________________________________________\n",
      "lstm_2 (LSTM)                (32, 32)                  8320      \n",
      "_________________________________________________________________\n",
      "batch_normalization_1 (Batch (32, 32)                  128       \n",
      "_________________________________________________________________\n",
      "dropout_1 (Dropout)          (32, 32)                  0         \n",
      "_________________________________________________________________\n",
      "dense_1 (Dense)              (32, 1)                   33        \n",
      "=================================================================\n",
      "Total params: 17,825.0\n",
      "Trainable params: 17,761.0\n",
      "Non-trainable params: 64.0\n",
      "_________________________________________________________________\n"
     ]
    }
   ],
   "source": [
    "# create and fit the LSTM network\n",
    "#print(len(train))\n",
    "model = Sequential()\n",
    "model.add(LSTM(batch_size,\n",
    "               input_shape=(1, look_back),\n",
    "               batch_size=batch_size,\n",
    "               return_sequences=True,\n",
    "               stateful=True))\n",
    "model.add(LSTM(batch_size,\n",
    "               return_sequences=False,\n",
    "               stateful=True))\n",
    "#model.add(Dense(1))\n",
    "model.add(BatchNormalization())\n",
    "model.add(Dropout(0.2))\n",
    "model.add(Dense(1))\n",
    "model.compile(loss='mean_squared_error', optimizer='adam')\n",
    "model.summary()"
   ]
  },
  {
   "cell_type": "code",
   "execution_count": 73,
   "metadata": {
    "collapsed": false,
    "deletable": true,
    "editable": true
   },
   "outputs": [
    {
     "name": "stdout",
     "output_type": "stream",
     "text": [
      "Epoch 1/100\n",
      "42s - loss: 4.6709e-04\n",
      "Epoch 2/100\n",
      "44s - loss: 4.7012e-04\n",
      "Epoch 3/100\n",
      "46s - loss: 4.6702e-04\n",
      "Epoch 4/100\n",
      "44s - loss: 4.6892e-04\n",
      "Epoch 5/100\n",
      "47s - loss: 4.6303e-04\n",
      "Epoch 6/100\n",
      "47s - loss: 4.6610e-04\n",
      "Epoch 7/100\n",
      "46s - loss: 4.6140e-04\n",
      "Epoch 8/100\n",
      "47s - loss: 4.5861e-04\n",
      "Epoch 9/100\n",
      "45s - loss: 4.5876e-04\n",
      "Epoch 10/100\n",
      "47s - loss: 4.5934e-04\n",
      "Epoch 11/100\n",
      "46s - loss: 4.6253e-04\n",
      "Epoch 12/100\n",
      "44s - loss: 4.6637e-04\n",
      "Epoch 13/100\n",
      "47s - loss: 4.5966e-04\n",
      "Epoch 14/100\n",
      "43s - loss: 4.6233e-04\n",
      "Epoch 15/100\n",
      "43s - loss: 4.5912e-04\n",
      "Epoch 16/100\n",
      "43s - loss: 4.5359e-04\n",
      "Epoch 17/100\n",
      "42s - loss: 4.6226e-04\n",
      "Epoch 18/100\n",
      "42s - loss: 4.5897e-04\n",
      "Epoch 19/100\n",
      "48s - loss: 4.6019e-04\n",
      "Epoch 20/100\n",
      "50s - loss: 4.5910e-04\n",
      "Epoch 21/100\n",
      "46s - loss: 4.5500e-04\n",
      "Epoch 22/100\n",
      "48s - loss: 4.5657e-04\n",
      "Epoch 23/100\n",
      "50s - loss: 4.5586e-04\n",
      "Epoch 24/100\n",
      "46s - loss: 4.5235e-04\n",
      "Epoch 25/100\n",
      "42s - loss: 4.5607e-04\n",
      "Epoch 26/100\n",
      "42s - loss: 4.5176e-04\n",
      "Epoch 27/100\n",
      "41s - loss: 4.5269e-04\n",
      "Epoch 28/100\n",
      "42s - loss: 4.5326e-04\n",
      "Epoch 29/100\n",
      "43s - loss: 4.5684e-04\n",
      "Epoch 30/100\n",
      "41s - loss: 4.5333e-04\n",
      "Epoch 31/100\n",
      "42s - loss: 4.5204e-04\n",
      "Epoch 32/100\n",
      "42s - loss: 4.4991e-04\n",
      "Epoch 33/100\n",
      "42s - loss: 4.5624e-04\n",
      "Epoch 34/100\n",
      "41s - loss: 4.5131e-04\n",
      "Epoch 35/100\n",
      "43s - loss: 4.4568e-04\n",
      "Epoch 36/100\n",
      "42s - loss: 4.5121e-04\n",
      "Epoch 37/100\n",
      "46s - loss: 4.4823e-04\n",
      "Epoch 38/100\n",
      "45s - loss: 4.5041e-04\n",
      "Epoch 39/100\n",
      "10846s - loss: 4.4847e-04\n",
      "Epoch 40/100\n",
      "44054s - loss: 4.4965e-04\n",
      "Epoch 41/100\n",
      "45s - loss: 4.4798e-04\n",
      "Epoch 42/100\n",
      "42s - loss: 4.4910e-04\n",
      "Epoch 43/100\n",
      "40s - loss: 4.4828e-04\n",
      "Epoch 44/100\n",
      "41s - loss: 4.4948e-04\n",
      "Epoch 45/100\n",
      "46s - loss: 4.4637e-04\n",
      "Epoch 46/100\n",
      "40s - loss: 4.3860e-04\n",
      "Epoch 47/100\n",
      "43s - loss: 4.4537e-04\n",
      "Epoch 48/100\n",
      "41s - loss: 4.4432e-04\n",
      "Epoch 49/100\n",
      "42s - loss: 4.4180e-04\n",
      "Epoch 50/100\n",
      "42s - loss: 4.4918e-04\n",
      "Epoch 51/100\n",
      "43s - loss: 4.4154e-04\n",
      "Epoch 52/100\n",
      "43s - loss: 4.4620e-04\n",
      "Epoch 53/100\n",
      "40s - loss: 4.4151e-04\n",
      "Epoch 54/100\n",
      "42s - loss: 4.4071e-04\n",
      "Epoch 55/100\n",
      "42s - loss: 4.4054e-04\n",
      "Epoch 56/100\n",
      "41s - loss: 4.4265e-04\n",
      "Epoch 57/100\n",
      "42s - loss: 4.4173e-04\n",
      "Epoch 58/100\n",
      "43s - loss: 4.4042e-04\n",
      "Epoch 59/100\n",
      "45s - loss: 4.4148e-04\n",
      "Epoch 60/100\n",
      "44s - loss: 4.4409e-04\n",
      "Epoch 61/100\n",
      "44s - loss: 4.3753e-04\n",
      "Epoch 62/100\n",
      "42s - loss: 4.3572e-04\n",
      "Epoch 63/100\n",
      "40s - loss: 4.3498e-04\n",
      "Epoch 64/100\n",
      "42s - loss: 4.3975e-04\n",
      "Epoch 65/100\n",
      "46s - loss: 4.3203e-04\n",
      "Epoch 66/100\n",
      "40s - loss: 4.3487e-04\n",
      "Epoch 67/100\n",
      "40s - loss: 4.3506e-04\n",
      "Epoch 68/100\n",
      "41s - loss: 4.3321e-04\n",
      "Epoch 69/100\n",
      "41s - loss: 4.3515e-04\n",
      "Epoch 70/100\n",
      "40s - loss: 4.3832e-04\n",
      "Epoch 71/100\n",
      "41s - loss: 4.3614e-04\n",
      "Epoch 72/100\n",
      "41s - loss: 4.3278e-04\n",
      "Epoch 73/100\n",
      "40s - loss: 4.3371e-04\n",
      "Epoch 74/100\n",
      "45s - loss: 4.3430e-04\n",
      "Epoch 75/100\n",
      "44s - loss: 4.3055e-04\n",
      "Epoch 76/100\n",
      "48s - loss: 4.3075e-04\n",
      "Epoch 77/100\n",
      "46s - loss: 4.3545e-04\n",
      "Epoch 78/100\n",
      "47s - loss: 4.3343e-04\n",
      "Epoch 79/100\n",
      "47s - loss: 4.3150e-04\n",
      "Epoch 80/100\n",
      "47s - loss: 4.2800e-04\n",
      "Epoch 81/100\n",
      "47s - loss: 4.2911e-04\n",
      "Epoch 82/100\n",
      "47s - loss: 4.3084e-04\n",
      "Epoch 83/100\n",
      "50s - loss: 4.2917e-04\n",
      "Epoch 84/100\n",
      "50s - loss: 4.2573e-04\n",
      "Epoch 85/100\n",
      "47s - loss: 4.3072e-04\n",
      "Epoch 86/100\n",
      "45s - loss: 4.3141e-04\n",
      "Epoch 87/100\n",
      "40s - loss: 4.2976e-04\n",
      "Epoch 88/100\n",
      "42s - loss: 4.2824e-04\n",
      "Epoch 89/100\n",
      "44s - loss: 4.2209e-04\n",
      "Epoch 90/100\n",
      "44s - loss: 4.2696e-04\n",
      "Epoch 91/100\n",
      "51s - loss: 4.2453e-04\n",
      "Epoch 92/100\n",
      "48s - loss: 4.2717e-04\n",
      "Epoch 93/100\n",
      "47s - loss: 4.2433e-04\n",
      "Epoch 94/100\n",
      "52s - loss: 4.2535e-04\n",
      "Epoch 95/100\n",
      "48s - loss: 4.2611e-04\n",
      "Epoch 96/100\n",
      "48s - loss: 4.2570e-04\n",
      "Epoch 97/100\n",
      "48s - loss: 4.2160e-04\n",
      "Epoch 98/100\n",
      "50s - loss: 4.2313e-04\n",
      "Epoch 99/100\n",
      "52s - loss: 4.2408e-04\n",
      "Epoch 100/100\n",
      "51s - loss: 4.2339e-04\n"
     ]
    },
    {
     "data": {
      "text/plain": [
       "<keras.callbacks.History at 0x12a6ae940>"
      ]
     },
     "execution_count": 73,
     "metadata": {},
     "output_type": "execute_result"
    }
   ],
   "source": [
    "model.fit(trainX, trainY, epochs=100, batch_size=batch_size, verbose=2)"
   ]
  },
  {
   "cell_type": "code",
   "execution_count": 75,
   "metadata": {
    "collapsed": false
   },
   "outputs": [
    {
     "data": {
      "text/plain": [
       "(175104,)"
      ]
     },
     "execution_count": 75,
     "metadata": {},
     "output_type": "execute_result"
    }
   ],
   "source": [
    "trainY.shape"
   ]
  },
  {
   "cell_type": "code",
   "execution_count": 76,
   "metadata": {
    "collapsed": false,
    "deletable": true,
    "editable": true
   },
   "outputs": [
    {
     "name": "stdout",
     "output_type": "stream",
     "text": [
      "Train Score: 1.08 RMSE\n",
      "Test Score: 1.13 RMSE\n"
     ]
    }
   ],
   "source": [
    "# make predictions\n",
    "trainPredict = model.predict(trainX[:174976,:,:])\n",
    "testPredict = model.predict(testX[:75008,:,:])\n",
    "# invert predictions\n",
    "trainPredict = scaler.inverse_transform(trainPredict)\n",
    "invTrainY = scaler.inverse_transform([trainY])\n",
    "testPredict = scaler.inverse_transform(testPredict)\n",
    "invTestY = scaler.inverse_transform([testY])\n",
    "# calculate root mean squared error\n",
    "trainScore = math.sqrt(mean_squared_error(invTrainY[0][:174976], trainPredict[:,0]))\n",
    "print('Train Score: %.2f RMSE' % (trainScore))\n",
    "testScore = math.sqrt(mean_squared_error(invTestY[0][:75008], testPredict[:,0]))\n",
    "print('Test Score: %.2f RMSE' % (testScore))"
   ]
  },
  {
   "cell_type": "code",
   "execution_count": 77,
   "metadata": {
    "collapsed": false,
    "deletable": true,
    "editable": true
   },
   "outputs": [
    {
     "name": "stderr",
     "output_type": "stream",
     "text": [
      "/usr/local/lib/python3.5/site-packages/sklearn/preprocessing/data.py:374: DeprecationWarning: Passing 1d arrays as data is deprecated in 0.17 and will raise ValueError in 0.19. Reshape your data either using X.reshape(-1, 1) if your data has a single feature or X.reshape(1, -1) if it contains a single sample.\n",
      "  warnings.warn(DEPRECATION_MSG_1D, DeprecationWarning)\n"
     ]
    },
    {
     "data": {
      "image/png": "[encoded data removed]",
      "text/plain": [
       "<matplotlib.figure.Figure at 0x11317a198>"
      ]
     },
     "metadata": {},
     "output_type": "display_data"
    }
   ],
   "source": [
    "# shift train predictions for plotting\n",
    "trainPredictPlot = numpy.empty_like(dataset)\n",
    "trainPredictPlot[:] = numpy.nan\n",
    "trainPredictPlot[look_back:len(trainPredict)+look_back] = np.reshape(trainPredict, len(trainPredict))\n",
    "# shift test predictions for plotting\n",
    "testPredictPlot = numpy.empty_like(dataset)\n",
    "testPredictPlot[:] = numpy.nan\n",
    "testPredictPlot[len(trainPredict)+(look_back*2)+1+142:len(dataset)-1] = np.reshape(testPredict, len(testPredict))\n",
    "# plot baseline and predictions\n",
    "plt.plot(scaler.inverse_transform(dataset))\n",
    "plt.plot(trainPredictPlot)\n",
    "plt.plot(testPredictPlot)\n",
    "plt.show()"
   ]
  },
  {
   "cell_type": "code",
   "execution_count": 78,
   "metadata": {
    "collapsed": false,
    "deletable": true,
    "editable": true
   },
   "outputs": [
    {
     "name": "stderr",
     "output_type": "stream",
     "text": [
      "/usr/local/lib/python3.5/site-packages/sklearn/preprocessing/data.py:374: DeprecationWarning: Passing 1d arrays as data is deprecated in 0.17 and will raise ValueError in 0.19. Reshape your data either using X.reshape(-1, 1) if your data has a single feature or X.reshape(1, -1) if it contains a single sample.\n",
      "  warnings.warn(DEPRECATION_MSG_1D, DeprecationWarning)\n"
     ]
    },
    {
     "data": {
      "text/plain": [
       "[<matplotlib.lines.Line2D at 0x12938d4e0>]"
      ]
     },
     "execution_count": 78,
     "metadata": {},
     "output_type": "execute_result"
    },
    {
     "data": {
      "image/png": "[encoded data removed]",
      "text/plain": [
       "<matplotlib.figure.Figure at 0x12938d240>"
      ]
     },
     "metadata": {},
     "output_type": "display_data"
    }
   ],
   "source": [
    "plt.plot(scaler.inverse_transform(dataset)[200000:200400])\n",
    "plt.plot(testPredictPlot[200000:200400])"
   ]
  },
  {
   "cell_type": "code",
   "execution_count": 82,
   "metadata": {
    "collapsed": false,
    "deletable": true,
    "editable": true
   },
   "outputs": [],
   "source": [
    "model.save('LB128.h5')"
   ]
  },
  {
   "cell_type": "code",
   "execution_count": 153,
   "metadata": {
    "collapsed": false
   },
   "outputs": [],
   "source": [
    "model = load_model('LB128.h5')\n",
    "def generate_sample(start_index = 200000, count=400):\n",
    "    generated = []\n",
    "    diversity = 0.1\n",
    "    maxlen = 32 * look_back\n",
    "    sentence = testPredictPlot[start_index: start_index + maxlen]\n",
    "    generated = np.append(generated, sentence)\n",
    "    \n",
    "    for i in range(count):\n",
    "        preds = (model.predict(sentence.reshape(32,1,look_back), verbose=0))[0,-1]\n",
    "        generated = np.append(generated, preds)\n",
    "        sentence = np.append(sentence[1:], preds)\n",
    "    \n",
    "    #print(generated.shape)\n",
    "    return generated"
   ]
  },
  {
   "cell_type": "code",
   "execution_count": 159,
   "metadata": {
    "collapsed": false
   },
   "outputs": [
    {
     "name": "stderr",
     "output_type": "stream",
     "text": [
      "/usr/local/lib/python3.5/site-packages/sklearn/preprocessing/data.py:374: DeprecationWarning: Passing 1d arrays as data is deprecated in 0.17 and will raise ValueError in 0.19. Reshape your data either using X.reshape(-1, 1) if your data has a single feature or X.reshape(1, -1) if it contains a single sample.\n",
      "  warnings.warn(DEPRECATION_MSG_1D, DeprecationWarning)\n"
     ]
    },
    {
     "name": "stdout",
     "output_type": "stream",
     "text": [
      "(1400,)\n"
     ]
    },
    {
     "data": {
      "text/plain": [
       "[<matplotlib.lines.Line2D at 0x116a44630>]"
      ]
     },
     "execution_count": 159,
     "metadata": {},
     "output_type": "execute_result"
    },
    {
     "data": {
      "image/png": "[encoded data removed]",
      "text/plain": [
       "<matplotlib.figure.Figure at 0x12ca066a0>"
      ]
     },
     "metadata": {},
     "output_type": "display_data"
    }
   ],
   "source": [
    "pred_start  = 32 * look_back\n",
    "start_index = 200000 - pred_start\n",
    "count       = 1400\n",
    "plt.plot(scaler.inverse_transform(dataset)[start_index + pred_start:start_index + pred_start + count])\n",
    "samples = generate_sample(start_index, count)[pred_start:]\n",
    "print(samples.shape)\n",
    "plt.plot(samples)"
   ]
  }
 ],
 "metadata": {
  "anaconda-cloud": {},
  "kernelspec": {
   "display_name": "Python 3",
   "language": "python",
   "name": "python3"
  },
  "language_info": {
   "codemirror_mode": {
    "name": "ipython",
    "version": 3
   },
   "file_extension": ".py",
   "mimetype": "text/x-python",
   "name": "python",
   "nbconvert_exporter": "python",
   "pygments_lexer": "ipython3",
   "version": "3.5.1"
  }
 },
 "nbformat": 4,
 "nbformat_minor": 2
}
