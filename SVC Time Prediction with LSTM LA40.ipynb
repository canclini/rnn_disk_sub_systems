{
 "cells": [
  {
   "cell_type": "markdown",
   "metadata": {
    "collapsed": true,
    "deletable": true,
    "editable": true
   },
   "source": [
    "Code von der Blog Seite: \n",
    "    http://machinelearningmastery.com/time-series-prediction-lstm-recurrent-neural-networks-python-keras/\n",
    "    \n",
    "Things to try:\n",
    "* Batch Normalization\n",
    "* Dropout\n",
    "* LSTM longer\n",
    "* More Layers\n",
    "* Scale of Data (z-Transformation)"
   ]
  },
  {
   "cell_type": "code",
   "execution_count": 1,
   "metadata": {
    "collapsed": false,
    "deletable": true,
    "editable": true
   },
   "outputs": [],
   "source": [
    "import gzip\n",
    "import numpy as np\n",
    "import matplotlib.pyplot as plt\n",
    "import matplotlib.image as imgplot\n",
    "import pandas as pd\n",
    "import time\n",
    "import datetime\n",
    "%matplotlib inline\n",
    "\n",
    "def dateparse (ts_str):    \n",
    "    return datetime.datetime.strptime(ts_str, '%Y%m%d_%H:%M:%S')\n",
    "\n",
    "df = pd.read_csv('data/LU_dat/VSP_86303/all_together.csv.gz', compression='gzip', index_col='timestamp', parse_dates=True, date_parser=dateparse)"
   ]
  },
  {
   "cell_type": "code",
   "execution_count": 2,
   "metadata": {
    "collapsed": false,
    "deletable": true,
    "editable": true
   },
   "outputs": [
    {
     "data": {
      "image/png": "[encoded data removed]",
      "text/plain": [
       "<matplotlib.figure.Figure at 0x110677518>"
      ]
     },
     "metadata": {},
     "output_type": "display_data"
    }
   ],
   "source": [
    "dataset = df[df['PQ_SVCT'] < 15000]['PQ_SVCT']\n",
    "plt.plot(dataset)\n",
    "plt.show()"
   ]
  },
  {
   "cell_type": "code",
   "execution_count": 3,
   "metadata": {
    "collapsed": false,
    "deletable": true,
    "editable": true
   },
   "outputs": [
    {
     "name": "stderr",
     "output_type": "stream",
     "text": [
      "Using TensorFlow backend.\n"
     ]
    }
   ],
   "source": [
    "import numpy\n",
    "import matplotlib.pyplot as plt\n",
    "import pandas\n",
    "import math\n",
    "from keras.models import Sequential\n",
    "from keras.layers import Dense\n",
    "from keras.layers import Dropout\n",
    "from keras.layers import BatchNormalization\n",
    "from keras.layers import TimeDistributed\n",
    "from keras.layers import LSTM\n",
    "from sklearn.preprocessing import MinMaxScaler\n",
    "from sklearn.metrics import mean_squared_error"
   ]
  },
  {
   "cell_type": "code",
   "execution_count": 4,
   "metadata": {
    "collapsed": true,
    "deletable": true,
    "editable": true
   },
   "outputs": [],
   "source": [
    "# fix random seed for reproducibility\n",
    "numpy.random.seed(7)"
   ]
  },
  {
   "cell_type": "code",
   "execution_count": 5,
   "metadata": {
    "collapsed": false,
    "deletable": true,
    "editable": true
   },
   "outputs": [],
   "source": [
    "# load the dataset\n",
    "dataframe = dataset = df[df['PQ_SVCT'] < 15000]['PQ_SVCT']\n",
    "dataset = dataframe.values\n",
    "dataset = dataset.astype('float32')"
   ]
  },
  {
   "cell_type": "code",
   "execution_count": 6,
   "metadata": {
    "collapsed": false,
    "deletable": true,
    "editable": true
   },
   "outputs": [
    {
     "name": "stderr",
     "output_type": "stream",
     "text": [
      "/usr/local/lib/python3.5/site-packages/sklearn/preprocessing/data.py:321: DeprecationWarning: Passing 1d arrays as data is deprecated in 0.17 and will raise ValueError in 0.19. Reshape your data either using X.reshape(-1, 1) if your data has a single feature or X.reshape(1, -1) if it contains a single sample.\n",
      "  warnings.warn(DEPRECATION_MSG_1D, DeprecationWarning)\n",
      "/usr/local/lib/python3.5/site-packages/sklearn/preprocessing/data.py:356: DeprecationWarning: Passing 1d arrays as data is deprecated in 0.17 and will raise ValueError in 0.19. Reshape your data either using X.reshape(-1, 1) if your data has a single feature or X.reshape(1, -1) if it contains a single sample.\n",
      "  warnings.warn(DEPRECATION_MSG_1D, DeprecationWarning)\n"
     ]
    }
   ],
   "source": [
    "# normalize the dataset\n",
    "scaler = MinMaxScaler(feature_range=(0, 1))\n",
    "dataset = scaler.fit_transform(dataset)"
   ]
  },
  {
   "cell_type": "code",
   "execution_count": 7,
   "metadata": {
    "collapsed": false,
    "deletable": true,
    "editable": true
   },
   "outputs": [
    {
     "name": "stdout",
     "output_type": "stream",
     "text": [
      "177058 87208\n"
     ]
    }
   ],
   "source": [
    "# split into train and test sets\n",
    "train_size = int(len(dataset) * 0.67)\n",
    "test_size = len(dataset) - train_size\n",
    "train, test = dataset[0:train_size], dataset[train_size:len(dataset)]\n",
    "print(len(train), len(test))"
   ]
  },
  {
   "cell_type": "code",
   "execution_count": 8,
   "metadata": {
    "collapsed": false,
    "deletable": true,
    "editable": true
   },
   "outputs": [],
   "source": [
    "# convert an array of values into a dataset matrix\n",
    "def create_dataset(dataset, look_back=1):\n",
    "\tdataX, dataY = [], []\n",
    "\tfor i in range(len(dataset)-look_back-1):\n",
    "\t\ta = dataset[i:(i+look_back)]\n",
    "\t\tdataX.append(a)\n",
    "\t\tdataY.append(dataset[i + look_back])\n",
    "\treturn numpy.array(dataX), numpy.array(dataY)"
   ]
  },
  {
   "cell_type": "code",
   "execution_count": 28,
   "metadata": {
    "collapsed": false,
    "deletable": true,
    "editable": true
   },
   "outputs": [],
   "source": [
    "# reshape into X=t and Y=t+1\n",
    "look_back = 10\n",
    "train_X, train_Y = create_dataset(train, look_back)\n",
    "test_X, test_Y = create_dataset(test, look_back)"
   ]
  },
  {
   "cell_type": "code",
   "execution_count": 30,
   "metadata": {
    "collapsed": false,
    "deletable": true,
    "editable": true
   },
   "outputs": [
    {
     "data": {
      "text/plain": [
       "array([[ 0.0224858 ,  0.02934792,  0.03675926, ...,  0.03196612,\n",
       "         0.03709528,  0.02002791],\n",
       "       [ 0.02934792,  0.03675926,  0.03222837, ...,  0.03709528,\n",
       "         0.02002791,  0.02390709],\n",
       "       [ 0.03675926,  0.03222837,  0.03328696, ...,  0.02002791,\n",
       "         0.02390709,  0.01915136],\n",
       "       ..., \n",
       "       [ 0.03570437,  0.04016875,  0.07308899, ...,  0.06363191,\n",
       "         0.09945931,  0.06808458],\n",
       "       [ 0.04016875,  0.07308899,  0.06841649, ...,  0.09945931,\n",
       "         0.06808458,  0.06248099],\n",
       "       [ 0.07308899,  0.06841649,  0.06991841, ...,  0.06808458,\n",
       "         0.06248099,  0.07665111]], dtype=float32)"
      ]
     },
     "execution_count": 30,
     "metadata": {},
     "output_type": "execute_result"
    }
   ],
   "source": [
    "test_X"
   ]
  },
  {
   "cell_type": "code",
   "execution_count": 29,
   "metadata": {
    "collapsed": false,
    "deletable": true,
    "editable": true
   },
   "outputs": [
    {
     "data": {
      "text/plain": [
       "array([ 0.02390709,  0.01915136,  0.02004223, ...,  0.06248099,\n",
       "        0.07665111,  0.10568947], dtype=float32)"
      ]
     },
     "execution_count": 29,
     "metadata": {},
     "output_type": "execute_result"
    }
   ],
   "source": [
    "test_Y"
   ]
  },
  {
   "cell_type": "code",
   "execution_count": 42,
   "metadata": {
    "collapsed": false,
    "deletable": true,
    "editable": true
   },
   "outputs": [],
   "source": [
    "# reshape input to be [samples, time steps, features]\n",
    "trainX = numpy.reshape(train_X, (train_X.shape[0], 1, train_X.shape[1]))\n",
    "testX = numpy.reshape(test_X, (test_X.shape[0], 1, test_X.shape[1]))\n",
    "trainY = train_Y\n",
    "testY = test_Y"
   ]
  },
  {
   "cell_type": "code",
   "execution_count": 40,
   "metadata": {
    "collapsed": false
   },
   "outputs": [
    {
     "data": {
      "text/plain": [
       "array([ 0.0360194 ,  0.08825094,  0.07097638, ...,  0.02425436,\n",
       "        0.02389174,  0.02604688], dtype=float32)"
      ]
     },
     "execution_count": 40,
     "metadata": {},
     "output_type": "execute_result"
    }
   ],
   "source": [
    "train_Y"
   ]
  },
  {
   "cell_type": "code",
   "execution_count": 41,
   "metadata": {
    "collapsed": false
   },
   "outputs": [
    {
     "data": {
      "text/plain": [
       "array([ 0.02390709,  0.01915136,  0.02004223, ...,  0.06248099,\n",
       "        0.07665111,  0.10568947], dtype=float32)"
      ]
     },
     "execution_count": 41,
     "metadata": {},
     "output_type": "execute_result"
    }
   ],
   "source": [
    "test_Y"
   ]
  },
  {
   "cell_type": "code",
   "execution_count": 60,
   "metadata": {
    "collapsed": false,
    "deletable": true,
    "editable": true
   },
   "outputs": [
    {
     "name": "stdout",
     "output_type": "stream",
     "text": [
      "177058\n",
      "_________________________________________________________________\n",
      "Layer (type)                 Output Shape              Param #   \n",
      "=================================================================\n",
      "lstm_21 (LSTM)               (None, 128)               71168     \n",
      "_________________________________________________________________\n",
      "batch_normalization_3 (Batch (None, 128)               512       \n",
      "_________________________________________________________________\n",
      "dropout_10 (Dropout)         (None, 128)               0         \n",
      "_________________________________________________________________\n",
      "dense_11 (Dense)             (None, 1)                 129       \n",
      "=================================================================\n",
      "Total params: 71,809.0\n",
      "Trainable params: 71,553.0\n",
      "Non-trainable params: 256.0\n",
      "_________________________________________________________________\n"
     ]
    }
   ],
   "source": [
    "# create and fit the LSTM network\n",
    "print(len(train))\n",
    "model = Sequential()\n",
    "model.add(LSTM(128, input_shape=(1, look_back)))#, return_sequences=True))\n",
    "#model.add(LSTM(128, return_sequences=True))\n",
    "model.add(BatchNormalization())\n",
    "model.add(Dropout(0.2))\n",
    "model.add(Dense(1))\n",
    "#model.add(TimeDistributed(Dense(1)))\n",
    "model.compile(loss='mean_squared_error', optimizer='adam')\n",
    "model.summary()"
   ]
  },
  {
   "cell_type": "code",
   "execution_count": 61,
   "metadata": {
    "collapsed": false,
    "deletable": true,
    "editable": true
   },
   "outputs": [
    {
     "name": "stdout",
     "output_type": "stream",
     "text": [
      "Epoch 1/100\n",
      "12s - loss: 9.1838e-04\n",
      "Epoch 2/100\n",
      "11s - loss: 4.8058e-04\n",
      "Epoch 3/100\n",
      "11s - loss: 4.4408e-04\n",
      "Epoch 4/100\n",
      "11s - loss: 4.4052e-04\n",
      "Epoch 5/100\n",
      "11s - loss: 4.3903e-04\n",
      "Epoch 6/100\n",
      "14s - loss: 4.4318e-04\n",
      "Epoch 7/100\n",
      "11s - loss: 4.4470e-04\n",
      "Epoch 8/100\n",
      "11s - loss: 4.3383e-04\n",
      "Epoch 9/100\n",
      "11s - loss: 4.3774e-04\n",
      "Epoch 10/100\n",
      "11s - loss: 4.3252e-04\n",
      "Epoch 11/100\n",
      "11s - loss: 4.3650e-04\n",
      "Epoch 12/100\n",
      "12s - loss: 4.3415e-04\n",
      "Epoch 13/100\n",
      "11s - loss: 4.3453e-04\n",
      "Epoch 14/100\n",
      "12s - loss: 4.3247e-04\n",
      "Epoch 15/100\n",
      "2445s - loss: 4.3562e-04\n",
      "Epoch 16/100\n",
      "12s - loss: 4.3281e-04\n",
      "Epoch 17/100\n",
      "11s - loss: 4.3760e-04\n",
      "Epoch 18/100\n",
      "11s - loss: 4.3374e-04\n",
      "Epoch 19/100\n",
      "13s - loss: 4.3473e-04\n",
      "Epoch 20/100\n",
      "11s - loss: 4.3284e-04\n",
      "Epoch 21/100\n",
      "11s - loss: 4.3521e-04\n",
      "Epoch 22/100\n",
      "12s - loss: 4.3391e-04\n",
      "Epoch 23/100\n",
      "11s - loss: 4.3295e-04\n",
      "Epoch 24/100\n",
      "12s - loss: 4.2995e-04\n",
      "Epoch 25/100\n",
      "11s - loss: 4.3181e-04\n",
      "Epoch 26/100\n",
      "12s - loss: 4.3062e-04\n",
      "Epoch 27/100\n",
      "11s - loss: 4.3431e-04\n",
      "Epoch 28/100\n",
      "12s - loss: 4.3078e-04\n",
      "Epoch 29/100\n",
      "12s - loss: 4.2708e-04\n",
      "Epoch 30/100\n",
      "10s - loss: 4.2732e-04\n",
      "Epoch 31/100\n",
      "11s - loss: 4.3028e-04\n",
      "Epoch 32/100\n",
      "15s - loss: 4.2813e-04\n",
      "Epoch 33/100\n",
      "12s - loss: 4.2949e-04\n",
      "Epoch 34/100\n",
      "12s - loss: 4.3169e-04\n",
      "Epoch 35/100\n",
      "13s - loss: 4.2824e-04\n",
      "Epoch 36/100\n",
      "12s - loss: 4.2953e-04\n",
      "Epoch 37/100\n",
      "11s - loss: 4.2702e-04\n",
      "Epoch 38/100\n",
      "11s - loss: 4.2806e-04\n",
      "Epoch 39/100\n",
      "11s - loss: 4.2844e-04\n",
      "Epoch 40/100\n",
      "11s - loss: 4.2947e-04\n",
      "Epoch 41/100\n",
      "13s - loss: 4.2990e-04\n",
      "Epoch 42/100\n",
      "13s - loss: 4.2739e-04\n",
      "Epoch 43/100\n",
      "11s - loss: 4.3102e-04\n",
      "Epoch 44/100\n",
      "11s - loss: 4.3138e-04\n",
      "Epoch 45/100\n",
      "12s - loss: 4.2994e-04\n",
      "Epoch 46/100\n",
      "11s - loss: 4.2677e-04\n",
      "Epoch 47/100\n",
      "11s - loss: 4.2708e-04\n",
      "Epoch 48/100\n",
      "12s - loss: 4.2960e-04\n",
      "Epoch 49/100\n",
      "11s - loss: 4.3012e-04\n",
      "Epoch 50/100\n",
      "11s - loss: 4.3064e-04\n",
      "Epoch 51/100\n",
      "12s - loss: 4.3397e-04\n",
      "Epoch 52/100\n",
      "12s - loss: 4.2681e-04\n",
      "Epoch 53/100\n",
      "13s - loss: 4.2900e-04\n",
      "Epoch 54/100\n",
      "11s - loss: 4.2449e-04\n",
      "Epoch 55/100\n",
      "13s - loss: 4.2669e-04\n",
      "Epoch 56/100\n",
      "12s - loss: 4.2669e-04\n",
      "Epoch 57/100\n",
      "11s - loss: 4.3066e-04\n",
      "Epoch 58/100\n",
      "13s - loss: 4.2380e-04\n",
      "Epoch 59/100\n",
      "12s - loss: 4.2806e-04\n",
      "Epoch 60/100\n",
      "12s - loss: 4.2831e-04\n",
      "Epoch 61/100\n",
      "13s - loss: 4.2970e-04\n",
      "Epoch 62/100\n",
      "11s - loss: 4.2853e-04\n",
      "Epoch 63/100\n",
      "11s - loss: 4.2695e-04\n",
      "Epoch 64/100\n",
      "11s - loss: 4.2833e-04\n",
      "Epoch 65/100\n",
      "12s - loss: 4.2569e-04\n",
      "Epoch 66/100\n",
      "11s - loss: 4.2626e-04\n",
      "Epoch 67/100\n",
      "11s - loss: 4.2656e-04\n",
      "Epoch 68/100\n",
      "11s - loss: 4.2649e-04\n",
      "Epoch 69/100\n",
      "11s - loss: 4.2672e-04\n",
      "Epoch 70/100\n",
      "11s - loss: 4.2799e-04\n",
      "Epoch 71/100\n",
      "13s - loss: 4.2767e-04\n",
      "Epoch 72/100\n",
      "11s - loss: 4.2394e-04\n",
      "Epoch 73/100\n",
      "11s - loss: 4.2559e-04\n",
      "Epoch 74/100\n",
      "14s - loss: 4.2692e-04\n",
      "Epoch 75/100\n",
      "20s - loss: 4.2580e-04\n",
      "Epoch 76/100\n",
      "18s - loss: 4.2315e-04\n",
      "Epoch 77/100\n",
      "16s - loss: 4.2767e-04\n",
      "Epoch 78/100\n",
      "18s - loss: 4.2494e-04\n",
      "Epoch 79/100\n",
      "18s - loss: 4.2471e-04\n",
      "Epoch 80/100\n",
      "16s - loss: 4.2937e-04\n",
      "Epoch 81/100\n",
      "15s - loss: 4.2570e-04\n",
      "Epoch 82/100\n",
      "13s - loss: 4.2508e-04\n",
      "Epoch 83/100\n",
      "13s - loss: 4.2550e-04\n",
      "Epoch 84/100\n",
      "13s - loss: 4.2629e-04\n",
      "Epoch 85/100\n",
      "12s - loss: 4.2685e-04\n",
      "Epoch 86/100\n",
      "13s - loss: 4.2486e-04\n",
      "Epoch 87/100\n",
      "12s - loss: 4.2638e-04\n",
      "Epoch 88/100\n",
      "11s - loss: 4.2570e-04\n",
      "Epoch 89/100\n",
      "11s - loss: 4.2708e-04\n",
      "Epoch 90/100\n",
      "11s - loss: 4.2473e-04\n",
      "Epoch 91/100\n",
      "12s - loss: 4.2717e-04\n",
      "Epoch 92/100\n",
      "12s - loss: 4.2310e-04\n",
      "Epoch 93/100\n",
      "12s - loss: 4.2355e-04\n",
      "Epoch 94/100\n",
      "11s - loss: 4.2657e-04\n",
      "Epoch 95/100\n",
      "12s - loss: 4.2636e-04\n",
      "Epoch 96/100\n",
      "12s - loss: 4.2525e-04\n",
      "Epoch 97/100\n",
      "12s - loss: 4.2535e-04\n",
      "Epoch 98/100\n",
      "11s - loss: 4.2356e-04\n",
      "Epoch 99/100\n",
      "11s - loss: 4.2558e-04\n",
      "Epoch 100/100\n",
      "11s - loss: 4.2737e-04\n"
     ]
    },
    {
     "data": {
      "text/plain": [
       "<keras.callbacks.History at 0x12fca54a8>"
      ]
     },
     "execution_count": 61,
     "metadata": {},
     "output_type": "execute_result"
    }
   ],
   "source": [
    "model.fit(trainX, trainY, epochs=100, batch_size=128, verbose=2)"
   ]
  },
  {
   "cell_type": "code",
   "execution_count": 62,
   "metadata": {
    "collapsed": false,
    "deletable": true,
    "editable": true
   },
   "outputs": [
    {
     "name": "stdout",
     "output_type": "stream",
     "text": [
      "Train Score: 1.09 RMSE\n",
      "Test Score: 1.10 RMSE\n"
     ]
    }
   ],
   "source": [
    "# make predictions\n",
    "trainPredict = model.predict(trainX)\n",
    "testPredict = model.predict(testX)\n",
    "# invert predictions\n",
    "trainPredict = scaler.inverse_transform(trainPredict)\n",
    "invTrainY = scaler.inverse_transform([trainY])\n",
    "testPredict = scaler.inverse_transform(testPredict)\n",
    "invTestY = scaler.inverse_transform([testY])\n",
    "# calculate root mean squared error\n",
    "trainScore = math.sqrt(mean_squared_error(invTrainY[0], trainPredict[:,0]))\n",
    "print('Train Score: %.2f RMSE' % (trainScore))\n",
    "testScore = math.sqrt(mean_squared_error(invTestY[0], testPredict[:,0]))\n",
    "print('Test Score: %.2f RMSE' % (testScore))"
   ]
  },
  {
   "cell_type": "code",
   "execution_count": 63,
   "metadata": {
    "collapsed": false,
    "deletable": true,
    "editable": true
   },
   "outputs": [
    {
     "name": "stderr",
     "output_type": "stream",
     "text": [
      "/usr/local/lib/python3.5/site-packages/sklearn/preprocessing/data.py:374: DeprecationWarning: Passing 1d arrays as data is deprecated in 0.17 and will raise ValueError in 0.19. Reshape your data either using X.reshape(-1, 1) if your data has a single feature or X.reshape(1, -1) if it contains a single sample.\n",
      "  warnings.warn(DEPRECATION_MSG_1D, DeprecationWarning)\n"
     ]
    },
    {
     "data": {
      "image/png": "[encoded data removed]",
      "text/plain": [
       "<matplotlib.figure.Figure at 0x11fc13c50>"
      ]
     },
     "metadata": {},
     "output_type": "display_data"
    }
   ],
   "source": [
    "# shift train predictions for plotting\n",
    "trainPredictPlot = numpy.empty_like(dataset)\n",
    "trainPredictPlot[:] = numpy.nan\n",
    "trainPredictPlot[look_back:len(trainPredict)+look_back] = np.reshape(trainPredict, len(trainPredict))\n",
    "# shift test predictions for plotting\n",
    "testPredictPlot = numpy.empty_like(dataset)\n",
    "testPredictPlot[:] = numpy.nan\n",
    "testPredictPlot[len(trainPredict)+(look_back*2)+1:len(dataset)-1] = np.reshape(testPredict, len(testPredict))\n",
    "# plot baseline and predictions\n",
    "plt.plot(scaler.inverse_transform(dataset))\n",
    "plt.plot(trainPredictPlot)\n",
    "plt.plot(testPredictPlot)\n",
    "plt.show()"
   ]
  },
  {
   "cell_type": "code",
   "execution_count": 64,
   "metadata": {
    "collapsed": false,
    "deletable": true,
    "editable": true
   },
   "outputs": [
    {
     "name": "stderr",
     "output_type": "stream",
     "text": [
      "/usr/local/lib/python3.5/site-packages/sklearn/preprocessing/data.py:374: DeprecationWarning: Passing 1d arrays as data is deprecated in 0.17 and will raise ValueError in 0.19. Reshape your data either using X.reshape(-1, 1) if your data has a single feature or X.reshape(1, -1) if it contains a single sample.\n",
      "  warnings.warn(DEPRECATION_MSG_1D, DeprecationWarning)\n"
     ]
    },
    {
     "data": {
      "text/plain": [
       "[<matplotlib.lines.Line2D at 0x12fdfd128>]"
      ]
     },
     "execution_count": 64,
     "metadata": {},
     "output_type": "execute_result"
    },
    {
     "data": {
      "image/png": "[encoded data removed]",
      "text/plain": [
       "<matplotlib.figure.Figure at 0x12fdd7b00>"
      ]
     },
     "metadata": {},
     "output_type": "display_data"
    }
   ],
   "source": [
    "plt.plot(scaler.inverse_transform(dataset)[200000:200100])\n",
    "plt.plot(testPredictPlot[200000:200100])"
   ]
  },
  {
   "cell_type": "code",
   "execution_count": 65,
   "metadata": {
    "collapsed": false,
    "deletable": true,
    "editable": true
   },
   "outputs": [
    {
     "name": "stdout",
     "output_type": "stream",
     "text": [
      "264266\n",
      "264266\n"
     ]
    },
    {
     "name": "stderr",
     "output_type": "stream",
     "text": [
      "/usr/local/lib/python3.5/site-packages/sklearn/preprocessing/data.py:374: DeprecationWarning: Passing 1d arrays as data is deprecated in 0.17 and will raise ValueError in 0.19. Reshape your data either using X.reshape(-1, 1) if your data has a single feature or X.reshape(1, -1) if it contains a single sample.\n",
      "  warnings.warn(DEPRECATION_MSG_1D, DeprecationWarning)\n"
     ]
    }
   ],
   "source": [
    "scaler.inverse_transform(dataset)[len(trainPredictPlot):len(trainPredictPlot)+100]\n",
    "print(len(trainPredictPlot))\n",
    "print(len(dataset))"
   ]
  },
  {
   "cell_type": "code",
   "execution_count": 66,
   "metadata": {
    "collapsed": false,
    "deletable": true,
    "editable": true
   },
   "outputs": [],
   "source": [
    "model.save('LA40.h5')"
   ]
  },
  {
   "cell_type": "code",
   "execution_count": 79,
   "metadata": {
    "collapsed": true
   },
   "outputs": [],
   "source": [
    "def generate_sample(count=400):\n",
    "    generated = []\n",
    "    start_index = 200000\n",
    "    diversity = 0.1\n",
    "    maxlen = 32 * look_back\n",
    "    sentence = testPredictPlot[start_index: start_index + maxlen]\n",
    "    generated = np.append(generated, sentence)\n",
    "    \n",
    "    for i in range(count):\n",
    "        preds = (model.predict(sentence.reshape(32,1,look_back), verbose=0))[0,-1]\n",
    "        #print(preds)\n",
    "        generated = np.append(generated, preds)\n",
    "        sentence = np.append(sentence[1:], preds)\n",
    "    \n",
    "    return generated"
   ]
  },
  {
   "cell_type": "code",
   "execution_count": 88,
   "metadata": {
    "collapsed": false
   },
   "outputs": [
    {
     "name": "stderr",
     "output_type": "stream",
     "text": [
      "/usr/local/lib/python3.5/site-packages/sklearn/preprocessing/data.py:374: DeprecationWarning: Passing 1d arrays as data is deprecated in 0.17 and will raise ValueError in 0.19. Reshape your data either using X.reshape(-1, 1) if your data has a single feature or X.reshape(1, -1) if it contains a single sample.\n",
      "  warnings.warn(DEPRECATION_MSG_1D, DeprecationWarning)\n"
     ]
    },
    {
     "data": {
      "text/plain": [
       "[<matplotlib.lines.Line2D at 0x132b3a1d0>]"
      ]
     },
     "execution_count": 88,
     "metadata": {},
     "output_type": "execute_result"
    },
    {
     "data": {
      "image/png": "[encoded data removed]",
      "text/plain": [
       "<matplotlib.figure.Figure at 0x132c78d68>"
      ]
     },
     "metadata": {},
     "output_type": "display_data"
    }
   ],
   "source": [
    "plt.plot(scaler.inverse_transform(dataset)[200000:201700])\n",
    "plt.plot(generate_sample(1400))"
   ]
  },
  {
   "cell_type": "code",
   "execution_count": 90,
   "metadata": {
    "collapsed": false
   },
   "outputs": [
    {
     "name": "stderr",
     "output_type": "stream",
     "text": [
      "/usr/local/lib/python3.5/site-packages/sklearn/preprocessing/data.py:374: DeprecationWarning: Passing 1d arrays as data is deprecated in 0.17 and will raise ValueError in 0.19. Reshape your data either using X.reshape(-1, 1) if your data has a single feature or X.reshape(1, -1) if it contains a single sample.\n",
      "  warnings.warn(DEPRECATION_MSG_1D, DeprecationWarning)\n"
     ]
    },
    {
     "name": "stdout",
     "output_type": "stream",
     "text": [
      "(1400,)\n"
     ]
    },
    {
     "data": {
      "text/plain": [
       "[<matplotlib.lines.Line2D at 0x132e8ccc0>]"
      ]
     },
     "execution_count": 90,
     "metadata": {},
     "output_type": "execute_result"
    },
    {
     "data": {
      "image/png": "[encoded data removed]",
      "text/plain": [
       "<matplotlib.figure.Figure at 0x133034748>"
      ]
     },
     "metadata": {},
     "output_type": "display_data"
    }
   ],
   "source": [
    "def generate_sample(start_index = 200000, count=400):\n",
    "    generated = []\n",
    "    diversity = 0.1\n",
    "    maxlen = 32 * look_back\n",
    "    sentence = testPredictPlot[start_index: start_index + maxlen]\n",
    "    generated = np.append(generated, sentence)\n",
    "    \n",
    "    for i in range(count):\n",
    "        preds = (model.predict(sentence.reshape(32,1,look_back), verbose=0))[0,-1]\n",
    "        generated = np.append(generated, preds)\n",
    "        sentence = np.append(sentence[1:], preds)\n",
    "    \n",
    "    #print(generated.shape)\n",
    "    return generated\n",
    "\n",
    "pred_start  = 32 * look_back\n",
    "start_index = 200000 - pred_start\n",
    "count       = 1400\n",
    "plt.plot(scaler.inverse_transform(dataset)[start_index + pred_start:start_index + pred_start + count])\n",
    "samples = generate_sample(start_index, count)[pred_start:]\n",
    "print(samples.shape)\n",
    "plt.plot(samples)"
   ]
  }
 ],
 "metadata": {
  "kernelspec": {
   "display_name": "Python 3",
   "language": "python",
   "name": "python3"
  },
  "language_info": {
   "codemirror_mode": {
    "name": "ipython",
    "version": 3
   },
   "file_extension": ".py",
   "mimetype": "text/x-python",
   "name": "python",
   "nbconvert_exporter": "python",
   "pygments_lexer": "ipython3",
   "version": "3.5.1"
  }
 },
 "nbformat": 4,
 "nbformat_minor": 2
}
