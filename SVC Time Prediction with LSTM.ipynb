{
 "cells": [
  {
   "cell_type": "markdown",
   "metadata": {
    "collapsed": true,
    "deletable": true,
    "editable": true
   },
   "source": [
    "Code von der Blog Seite: \n",
    "    http://machinelearningmastery.com/time-series-prediction-lstm-recurrent-neural-networks-python-keras/"
   ]
  },
  {
   "cell_type": "code",
   "execution_count": 1,
   "metadata": {
    "collapsed": false
   },
   "outputs": [],
   "source": [
    "import gzip\n",
    "import numpy as np\n",
    "import matplotlib.pyplot as plt\n",
    "import matplotlib.image as imgplot\n",
    "import pandas as pd\n",
    "import time\n",
    "import datetime\n",
    "%matplotlib inline\n",
    "\n",
    "def dateparse (ts_str):    \n",
    "    return datetime.datetime.strptime(ts_str, '%Y%m%d_%H:%M:%S')\n",
    "\n",
    "df = pd.read_csv('data/LU_dat/VSP_86303/all_together.csv.gz', compression='gzip', index_col='timestamp', parse_dates=True, date_parser=dateparse)"
   ]
  },
  {
   "cell_type": "code",
   "execution_count": 2,
   "metadata": {
    "collapsed": false,
    "deletable": true,
    "editable": true
   },
   "outputs": [
    {
     "data": {
      "image/png": "[encoded data removed]",
      "text/plain": [
       "<matplotlib.figure.Figure at 0x1068bf240>"
      ]
     },
     "metadata": {},
     "output_type": "display_data"
    }
   ],
   "source": [
    "dataset = df[df['PQ_SVCT'] < 15000]['PQ_SVCT']\n",
    "plt.plot(dataset)\n",
    "plt.show()"
   ]
  },
  {
   "cell_type": "code",
   "execution_count": 38,
   "metadata": {
    "collapsed": false,
    "deletable": true,
    "editable": true
   },
   "outputs": [],
   "source": [
    "import numpy\n",
    "import matplotlib.pyplot as plt\n",
    "import pandas\n",
    "import math\n",
    "from keras.models import Sequential\n",
    "from keras.models import load_model\n",
    "from keras.layers import Dense\n",
    "from keras.layers import LSTM\n",
    "from sklearn.preprocessing import MinMaxScaler\n",
    "from sklearn.metrics import mean_squared_error"
   ]
  },
  {
   "cell_type": "code",
   "execution_count": 4,
   "metadata": {
    "collapsed": true,
    "deletable": true,
    "editable": true
   },
   "outputs": [],
   "source": [
    "# fix random seed for reproducibility\n",
    "numpy.random.seed(7)"
   ]
  },
  {
   "cell_type": "code",
   "execution_count": 5,
   "metadata": {
    "collapsed": false,
    "deletable": true,
    "editable": true
   },
   "outputs": [],
   "source": [
    "# load the dataset\n",
    "dataframe = dataset = df[df['PQ_SVCT'] < 15000]['PQ_SVCT']\n",
    "dataset = dataframe.values\n",
    "dataset = dataset.astype('float32')"
   ]
  },
  {
   "cell_type": "code",
   "execution_count": 6,
   "metadata": {
    "collapsed": false,
    "deletable": true,
    "editable": true
   },
   "outputs": [
    {
     "name": "stderr",
     "output_type": "stream",
     "text": [
      "/usr/local/lib/python3.5/site-packages/sklearn/preprocessing/data.py:321: DeprecationWarning: Passing 1d arrays as data is deprecated in 0.17 and will raise ValueError in 0.19. Reshape your data either using X.reshape(-1, 1) if your data has a single feature or X.reshape(1, -1) if it contains a single sample.\n",
      "  warnings.warn(DEPRECATION_MSG_1D, DeprecationWarning)\n",
      "/usr/local/lib/python3.5/site-packages/sklearn/preprocessing/data.py:356: DeprecationWarning: Passing 1d arrays as data is deprecated in 0.17 and will raise ValueError in 0.19. Reshape your data either using X.reshape(-1, 1) if your data has a single feature or X.reshape(1, -1) if it contains a single sample.\n",
      "  warnings.warn(DEPRECATION_MSG_1D, DeprecationWarning)\n"
     ]
    }
   ],
   "source": [
    "# normalize the dataset\n",
    "scaler = MinMaxScaler(feature_range=(0, 1))\n",
    "dataset = scaler.fit_transform(dataset)"
   ]
  },
  {
   "cell_type": "code",
   "execution_count": 7,
   "metadata": {
    "collapsed": false,
    "deletable": true,
    "editable": true
   },
   "outputs": [
    {
     "name": "stdout",
     "output_type": "stream",
     "text": [
      "177058 87208\n"
     ]
    }
   ],
   "source": [
    "# split into train and test sets\n",
    "train_size = int(len(dataset) * 0.67)\n",
    "test_size = len(dataset) - train_size\n",
    "train, test = dataset[0:train_size], dataset[train_size:len(dataset)]\n",
    "print(len(train), len(test))"
   ]
  },
  {
   "cell_type": "code",
   "execution_count": 8,
   "metadata": {
    "collapsed": false,
    "deletable": true,
    "editable": true
   },
   "outputs": [],
   "source": [
    "# convert an array of values into a dataset matrix\n",
    "def create_dataset(dataset, look_back=1):\n",
    "\tdataX, dataY = [], []\n",
    "\tfor i in range(len(dataset)-look_back-1):\n",
    "\t\ta = dataset[i:(i+look_back)]\n",
    "\t\tdataX.append(a)\n",
    "\t\tdataY.append(dataset[i + look_back])\n",
    "\treturn numpy.array(dataX), numpy.array(dataY)"
   ]
  },
  {
   "cell_type": "code",
   "execution_count": 9,
   "metadata": {
    "collapsed": false,
    "deletable": true,
    "editable": true
   },
   "outputs": [],
   "source": [
    "# reshape into X=t and Y=t+1\n",
    "look_back = 1\n",
    "trainX, trainY = create_dataset(train, look_back)\n",
    "testX, testY = create_dataset(test, look_back)"
   ]
  },
  {
   "cell_type": "code",
   "execution_count": 10,
   "metadata": {
    "collapsed": true,
    "deletable": true,
    "editable": true
   },
   "outputs": [],
   "source": [
    "# reshape input to be [samples, time steps, features]\n",
    "trainX = numpy.reshape(trainX, (trainX.shape[0], 1, trainX.shape[1]))\n",
    "testX = numpy.reshape(testX, (testX.shape[0], 1, testX.shape[1]))"
   ]
  },
  {
   "cell_type": "code",
   "execution_count": 11,
   "metadata": {
    "collapsed": false,
    "deletable": true,
    "editable": true
   },
   "outputs": [
    {
     "name": "stdout",
     "output_type": "stream",
     "text": [
      "177058\n",
      "_________________________________________________________________\n",
      "Layer (type)                 Output Shape              Param #   \n",
      "=================================================================\n",
      "lstm_1 (LSTM)                (None, 4)                 96        \n",
      "_________________________________________________________________\n",
      "dense_1 (Dense)              (None, 1)                 5         \n",
      "=================================================================\n",
      "Total params: 101.0\n",
      "Trainable params: 101\n",
      "Non-trainable params: 0.0\n",
      "_________________________________________________________________\n"
     ]
    }
   ],
   "source": [
    "# create and fit the LSTM network\n",
    "print(len(train))\n",
    "model = Sequential()\n",
    "model.add(LSTM(4, input_shape=(1,1)))\n",
    "model.add(Dense(1))\n",
    "model.compile(loss='mean_squared_error', optimizer='adam')\n",
    "model.summary()"
   ]
  },
  {
   "cell_type": "code",
   "execution_count": 12,
   "metadata": {
    "collapsed": false,
    "deletable": true,
    "editable": true
   },
   "outputs": [
    {
     "name": "stdout",
     "output_type": "stream",
     "text": [
      "Epoch 1/100\n",
      "785s - loss: 4.4443e-04\n",
      "Epoch 2/100\n",
      "778s - loss: 4.2907e-04\n",
      "Epoch 3/100\n",
      "779s - loss: 4.2632e-04\n",
      "Epoch 4/100\n",
      "778s - loss: 4.2528e-04\n",
      "Epoch 5/100\n",
      "778s - loss: 4.2493e-04\n",
      "Epoch 6/100\n",
      "778s - loss: 4.2443e-04\n",
      "Epoch 7/100\n",
      "778s - loss: 4.2283e-04\n",
      "Epoch 8/100\n",
      "779s - loss: 4.2262e-04\n",
      "Epoch 9/100\n",
      "779s - loss: 4.2338e-04\n",
      "Epoch 10/100\n",
      "778s - loss: 4.2262e-04\n",
      "Epoch 11/100\n",
      "778s - loss: 4.2229e-04\n",
      "Epoch 12/100\n",
      "779s - loss: 4.2343e-04\n",
      "Epoch 13/100\n",
      "779s - loss: 4.2181e-04\n",
      "Epoch 14/100\n",
      "778s - loss: 4.2203e-04\n",
      "Epoch 15/100\n",
      "779s - loss: 4.2257e-04\n",
      "Epoch 16/100\n",
      "777s - loss: 4.2254e-04\n",
      "Epoch 17/100\n",
      "778s - loss: 4.2264e-04\n",
      "Epoch 18/100\n",
      "778s - loss: 4.2105e-04\n",
      "Epoch 19/100\n",
      "777s - loss: 4.2261e-04\n",
      "Epoch 20/100\n",
      "779s - loss: 4.2154e-04\n",
      "Epoch 21/100\n",
      "779s - loss: 4.2313e-04\n",
      "Epoch 22/100\n",
      "781s - loss: 4.2217e-04\n",
      "Epoch 23/100\n",
      "779s - loss: 4.2209e-04\n",
      "Epoch 24/100\n",
      "780s - loss: 4.2280e-04\n",
      "Epoch 25/100\n",
      "780s - loss: 4.2222e-04\n",
      "Epoch 26/100\n",
      "777s - loss: 4.2287e-04\n",
      "Epoch 27/100\n",
      "778s - loss: 4.2204e-04\n",
      "Epoch 28/100\n",
      "778s - loss: 4.2198e-04\n",
      "Epoch 29/100\n",
      "778s - loss: 4.2171e-04\n",
      "Epoch 30/100\n",
      "779s - loss: 4.2159e-04\n",
      "Epoch 31/100\n",
      "778s - loss: 4.2268e-04\n",
      "Epoch 32/100\n",
      "778s - loss: 4.2083e-04\n",
      "Epoch 33/100\n",
      "778s - loss: 4.2151e-04\n",
      "Epoch 34/100\n",
      "778s - loss: 4.2198e-04\n",
      "Epoch 35/100\n",
      "778s - loss: 4.2231e-04\n",
      "Epoch 36/100\n",
      "778s - loss: 4.2182e-04\n",
      "Epoch 37/100\n",
      "780s - loss: 4.2217e-04\n",
      "Epoch 38/100\n",
      "780s - loss: 4.2261e-04\n",
      "Epoch 39/100\n",
      "778s - loss: 4.2203e-04\n",
      "Epoch 40/100\n",
      "779s - loss: 4.2203e-04\n",
      "Epoch 41/100\n",
      "778s - loss: 4.2192e-04\n",
      "Epoch 42/100\n",
      "778s - loss: 4.2134e-04\n",
      "Epoch 43/100\n",
      "778s - loss: 4.2026e-04\n",
      "Epoch 44/100\n",
      "778s - loss: 4.2143e-04\n",
      "Epoch 45/100\n",
      "778s - loss: 4.2107e-04\n",
      "Epoch 46/100\n",
      "778s - loss: 4.2135e-04\n",
      "Epoch 47/100\n",
      "778s - loss: 4.2147e-04\n",
      "Epoch 48/100\n",
      "778s - loss: 4.2188e-04\n",
      "Epoch 49/100\n",
      "778s - loss: 4.2184e-04\n",
      "Epoch 50/100\n",
      "779s - loss: 4.2114e-04\n",
      "Epoch 51/100\n",
      "777s - loss: 4.2244e-04\n",
      "Epoch 52/100\n",
      "778s - loss: 4.2146e-04\n",
      "Epoch 53/100\n",
      "777s - loss: 4.2116e-04\n",
      "Epoch 54/100\n",
      "779s - loss: 4.2202e-04\n",
      "Epoch 55/100\n",
      "779s - loss: 4.1995e-04\n",
      "Epoch 56/100\n",
      "777s - loss: 4.2088e-04\n",
      "Epoch 57/100\n",
      "779s - loss: 4.2053e-04\n",
      "Epoch 58/100\n",
      "778s - loss: 4.2137e-04\n",
      "Epoch 59/100\n",
      "3663s - loss: 4.2105e-04\n",
      "Epoch 60/100\n",
      "928s - loss: 4.2088e-04\n",
      "Epoch 61/100\n",
      "879s - loss: 4.2087e-04\n",
      "Epoch 62/100\n",
      "855s - loss: 4.2135e-04\n",
      "Epoch 63/100\n",
      "833s - loss: 4.2186e-04\n",
      "Epoch 64/100\n",
      "834s - loss: 4.2081e-04\n",
      "Epoch 65/100\n",
      "805s - loss: 4.2204e-04\n",
      "Epoch 66/100\n",
      "797s - loss: 4.2067e-04\n",
      "Epoch 67/100\n",
      "798s - loss: 4.2131e-04\n",
      "Epoch 68/100\n",
      "800s - loss: 4.2019e-04\n",
      "Epoch 69/100\n",
      "851s - loss: 4.2142e-04\n",
      "Epoch 70/100\n",
      "801s - loss: 4.2092e-04\n",
      "Epoch 71/100\n",
      "799s - loss: 4.2255e-04\n",
      "Epoch 72/100\n",
      "785s - loss: 4.2129e-04\n",
      "Epoch 73/100\n",
      "781s - loss: 4.2106e-04\n",
      "Epoch 74/100\n",
      "780s - loss: 4.2152e-04\n",
      "Epoch 75/100\n",
      "781s - loss: 4.2148e-04\n",
      "Epoch 76/100\n",
      "793s - loss: 4.2082e-04\n",
      "Epoch 77/100\n",
      "803s - loss: 4.2086e-04\n",
      "Epoch 78/100\n",
      "777s - loss: 4.2110e-04\n",
      "Epoch 79/100\n",
      "779s - loss: 4.2139e-04\n",
      "Epoch 80/100\n",
      "780s - loss: 4.2126e-04\n",
      "Epoch 81/100\n",
      "780s - loss: 4.2159e-04\n",
      "Epoch 82/100\n",
      "781s - loss: 4.2142e-04\n",
      "Epoch 83/100\n",
      "784s - loss: 4.2115e-04\n",
      "Epoch 84/100\n",
      "798s - loss: 4.2021e-04\n",
      "Epoch 85/100\n",
      "820s - loss: 4.2060e-04\n",
      "Epoch 86/100\n",
      "796s - loss: 4.2243e-04\n",
      "Epoch 87/100\n",
      "783s - loss: 4.2149e-04\n",
      "Epoch 88/100\n",
      "780s - loss: 4.2165e-04\n",
      "Epoch 89/100\n",
      "811s - loss: 4.2118e-04\n",
      "Epoch 90/100\n",
      "865s - loss: 4.2165e-04\n",
      "Epoch 91/100\n",
      "853s - loss: 4.2157e-04\n",
      "Epoch 92/100\n",
      "864s - loss: 4.2182e-04\n",
      "Epoch 93/100\n",
      "827s - loss: 4.2120e-04\n",
      "Epoch 94/100\n",
      "787s - loss: 4.2021e-04\n",
      "Epoch 95/100\n",
      "59519s - loss: 4.2114e-04\n",
      "Epoch 96/100\n",
      "813s - loss: 4.2222e-04\n",
      "Epoch 97/100\n",
      "782s - loss: 4.2232e-04\n",
      "Epoch 98/100\n",
      "773s - loss: 4.2105e-04\n",
      "Epoch 99/100\n",
      "778s - loss: 4.2252e-04\n",
      "Epoch 100/100\n",
      "777s - loss: 4.2179e-04\n"
     ]
    },
    {
     "data": {
      "text/plain": [
       "<keras.callbacks.History at 0x10e7c2f60>"
      ]
     },
     "execution_count": 12,
     "metadata": {},
     "output_type": "execute_result"
    }
   ],
   "source": [
    "model.fit(trainX, trainY, epochs=100, batch_size=1, verbose=2)"
   ]
  },
  {
   "cell_type": "code",
   "execution_count": 13,
   "metadata": {
    "collapsed": false,
    "deletable": true,
    "editable": true
   },
   "outputs": [
    {
     "name": "stdout",
     "output_type": "stream",
     "text": [
      "Train Score: 1.09 RMSE\n",
      "Test Score: 1.09 RMSE\n"
     ]
    }
   ],
   "source": [
    "# make predictions\n",
    "trainPredict = model.predict(trainX)\n",
    "testPredict = model.predict(testX)\n",
    "# invert predictions\n",
    "trainPredict = scaler.inverse_transform(trainPredict)\n",
    "invTrainY = scaler.inverse_transform([trainY])\n",
    "testPredict = scaler.inverse_transform(testPredict)\n",
    "invTestY = scaler.inverse_transform([testY])\n",
    "# calculate root mean squared error\n",
    "trainScore = math.sqrt(mean_squared_error(invTrainY[0], trainPredict[:,0]))\n",
    "print('Train Score: %.2f RMSE' % (trainScore))\n",
    "testScore = math.sqrt(mean_squared_error(invTestY[0], testPredict[:,0]))\n",
    "print('Test Score: %.2f RMSE' % (testScore))"
   ]
  },
  {
   "cell_type": "code",
   "execution_count": 14,
   "metadata": {
    "collapsed": false,
    "deletable": true,
    "editable": true
   },
   "outputs": [
    {
     "name": "stderr",
     "output_type": "stream",
     "text": [
      "/usr/local/lib/python3.5/site-packages/sklearn/preprocessing/data.py:374: DeprecationWarning: Passing 1d arrays as data is deprecated in 0.17 and will raise ValueError in 0.19. Reshape your data either using X.reshape(-1, 1) if your data has a single feature or X.reshape(1, -1) if it contains a single sample.\n",
      "  warnings.warn(DEPRECATION_MSG_1D, DeprecationWarning)\n"
     ]
    },
    {
     "data": {
      "image/png": "[encoded data removed]",
      "text/plain": [
       "<matplotlib.figure.Figure at 0x1068a7b38>"
      ]
     },
     "metadata": {},
     "output_type": "display_data"
    }
   ],
   "source": [
    "# shift train predictions for plotting\n",
    "trainPredictPlot = numpy.empty_like(dataset)\n",
    "trainPredictPlot[:] = numpy.nan\n",
    "trainPredictPlot[look_back:len(trainPredict)+look_back] = np.reshape(trainPredict, len(trainPredict))\n",
    "# shift test predictions for plotting\n",
    "testPredictPlot = numpy.empty_like(dataset)\n",
    "testPredictPlot[:] = numpy.nan\n",
    "testPredictPlot[len(trainPredict)+(look_back*2)+1:len(dataset)-1] = np.reshape(testPredict, len(testPredict))\n",
    "# plot baseline and predictions\n",
    "plt.plot(scaler.inverse_transform(dataset))\n",
    "plt.plot(trainPredictPlot)\n",
    "plt.plot(testPredictPlot)\n",
    "plt.show()"
   ]
  },
  {
   "cell_type": "code",
   "execution_count": 47,
   "metadata": {
    "collapsed": false
   },
   "outputs": [
    {
     "name": "stderr",
     "output_type": "stream",
     "text": [
      "/usr/local/lib/python3.5/site-packages/sklearn/preprocessing/data.py:374: DeprecationWarning: Passing 1d arrays as data is deprecated in 0.17 and will raise ValueError in 0.19. Reshape your data either using X.reshape(-1, 1) if your data has a single feature or X.reshape(1, -1) if it contains a single sample.\n",
      "  warnings.warn(DEPRECATION_MSG_1D, DeprecationWarning)\n"
     ]
    },
    {
     "data": {
      "text/plain": [
       "[<matplotlib.lines.Line2D at 0x122f72e80>]"
      ]
     },
     "execution_count": 47,
     "metadata": {},
     "output_type": "execute_result"
    },
    {
     "data": {
      "image/png": "[encoded data removed]",
      "text/plain": [
       "<matplotlib.figure.Figure at 0x113f53b38>"
      ]
     },
     "metadata": {},
     "output_type": "display_data"
    }
   ],
   "source": [
    "plt.plot(scaler.inverse_transform(dataset)[200000:200400])\n",
    "plt.plot(testPredictPlot[200000:200400])"
   ]
  },
  {
   "cell_type": "code",
   "execution_count": 20,
   "metadata": {
    "collapsed": false
   },
   "outputs": [
    {
     "name": "stdout",
     "output_type": "stream",
     "text": [
      "264266\n",
      "264266\n"
     ]
    },
    {
     "name": "stderr",
     "output_type": "stream",
     "text": [
      "/usr/local/lib/python3.5/site-packages/sklearn/preprocessing/data.py:374: DeprecationWarning: Passing 1d arrays as data is deprecated in 0.17 and will raise ValueError in 0.19. Reshape your data either using X.reshape(-1, 1) if your data has a single feature or X.reshape(1, -1) if it contains a single sample.\n",
      "  warnings.warn(DEPRECATION_MSG_1D, DeprecationWarning)\n"
     ]
    }
   ],
   "source": [
    "scaler.inverse_transform(dataset)[len(trainPredictPlot):len(trainPredictPlot)+100]\n",
    "print(len(trainPredictPlot))\n",
    "print(len(dataset))"
   ]
  },
  {
   "cell_type": "code",
   "execution_count": 16,
   "metadata": {
    "collapsed": false,
    "deletable": true,
    "editable": true
   },
   "outputs": [],
   "source": [
    "model.save('LA1.h5')"
   ]
  },
  {
   "cell_type": "code",
   "execution_count": 41,
   "metadata": {
    "collapsed": false
   },
   "outputs": [],
   "source": [
    "def generate_sample(count=400):\n",
    "    generated = []\n",
    "    start_index = 200000\n",
    "    diversity = 0.1\n",
    "    maxlen = 32 * look_back\n",
    "    sentence = testPredictPlot[start_index: start_index + maxlen]\n",
    "    generated = np.append(generated, sentence)\n",
    "    \n",
    "    for i in range(count):\n",
    "        preds = (model.predict(sentence.reshape(32,1,look_back), verbose=0))[0,-1]\n",
    "        #print(preds)\n",
    "        generated = np.append(generated, preds)\n",
    "        sentence = np.append(sentence[1:], preds)\n",
    "    \n",
    "    return generated"
   ]
  },
  {
   "cell_type": "code",
   "execution_count": 45,
   "metadata": {
    "collapsed": false
   },
   "outputs": [
    {
     "name": "stderr",
     "output_type": "stream",
     "text": [
      "/usr/local/lib/python3.5/site-packages/sklearn/preprocessing/data.py:374: DeprecationWarning: Passing 1d arrays as data is deprecated in 0.17 and will raise ValueError in 0.19. Reshape your data either using X.reshape(-1, 1) if your data has a single feature or X.reshape(1, -1) if it contains a single sample.\n",
      "  warnings.warn(DEPRECATION_MSG_1D, DeprecationWarning)\n"
     ]
    },
    {
     "data": {
      "text/plain": [
       "[<matplotlib.lines.Line2D at 0x113f3b860>]"
      ]
     },
     "execution_count": 45,
     "metadata": {},
     "output_type": "execute_result"
    },
    {
     "data": {
      "image/png": "[encoded data removed]",
      "text/plain": [
       "<matplotlib.figure.Figure at 0x11085ff28>"
      ]
     },
     "metadata": {},
     "output_type": "display_data"
    }
   ],
   "source": [
    "plt.plot(scaler.inverse_transform(dataset)[200000:201700])\n",
    "plt.plot(generate_sample(1700))"
   ]
  },
  {
   "cell_type": "code",
   "execution_count": 46,
   "metadata": {
    "collapsed": false
   },
   "outputs": [
    {
     "name": "stderr",
     "output_type": "stream",
     "text": [
      "/usr/local/lib/python3.5/site-packages/sklearn/preprocessing/data.py:374: DeprecationWarning: Passing 1d arrays as data is deprecated in 0.17 and will raise ValueError in 0.19. Reshape your data either using X.reshape(-1, 1) if your data has a single feature or X.reshape(1, -1) if it contains a single sample.\n",
      "  warnings.warn(DEPRECATION_MSG_1D, DeprecationWarning)\n"
     ]
    },
    {
     "name": "stdout",
     "output_type": "stream",
     "text": [
      "(1400,)\n"
     ]
    },
    {
     "data": {
      "text/plain": [
       "[<matplotlib.lines.Line2D at 0x11414cba8>]"
      ]
     },
     "execution_count": 46,
     "metadata": {},
     "output_type": "execute_result"
    },
    {
     "data": {
      "image/png": "[encoded data removed]",
      "text/plain": [
       "<matplotlib.figure.Figure at 0x11414cbe0>"
      ]
     },
     "metadata": {},
     "output_type": "display_data"
    }
   ],
   "source": [
    "def generate_sample(start_index = 200000, count=400):\n",
    "    generated = []\n",
    "    diversity = 0.1\n",
    "    maxlen = 32 * look_back\n",
    "    sentence = testPredictPlot[start_index: start_index + maxlen]\n",
    "    generated = np.append(generated, sentence)\n",
    "    \n",
    "    for i in range(count):\n",
    "        preds = (model.predict(sentence.reshape(32,1,look_back), verbose=0))[0,-1]\n",
    "        generated = np.append(generated, preds)\n",
    "        sentence = np.append(sentence[1:], preds)\n",
    "    \n",
    "    #print(generated.shape)\n",
    "    return generated\n",
    "\n",
    "pred_start  = 32 * look_back\n",
    "start_index = 200000 - pred_start\n",
    "count       = 1400\n",
    "plt.plot(scaler.inverse_transform(dataset)[start_index + pred_start:start_index + pred_start + count])\n",
    "samples = generate_sample(start_index, count)[pred_start:]\n",
    "print(samples.shape)\n",
    "plt.plot(samples)"
   ]
  }
 ],
 "metadata": {
  "kernelspec": {
   "display_name": "Python 3",
   "language": "python",
   "name": "python3"
  },
  "language_info": {
   "codemirror_mode": {
    "name": "ipython",
    "version": 3
   },
   "file_extension": ".py",
   "mimetype": "text/x-python",
   "name": "python",
   "nbconvert_exporter": "python",
   "pygments_lexer": "ipython3",
   "version": "3.5.1"
  }
 },
 "nbformat": 4,
 "nbformat_minor": 2
}
