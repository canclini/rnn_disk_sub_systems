{
 "cells": [
  {
   "cell_type": "markdown",
   "metadata": {
    "collapsed": true,
    "deletable": true,
    "editable": true
   },
   "source": [
    "Code von der Blog Seite: \n",
    "    http://machinelearningmastery.com/time-series-prediction-lstm-recurrent-neural-networks-python-keras/"
   ]
  },
  {
   "cell_type": "code",
   "execution_count": 2,
   "metadata": {
    "collapsed": false
   },
   "outputs": [],
   "source": [
    "import gzip\n",
    "import numpy as np\n",
    "import matplotlib.pyplot as plt\n",
    "import matplotlib.image as imgplot\n",
    "import pandas as pd\n",
    "import time\n",
    "import datetime\n",
    "%matplotlib inline\n",
    "\n",
    "def dateparse (ts_str):    \n",
    "    return datetime.datetime.strptime(ts_str, '%Y%m%d_%H:%M:%S')\n",
    "\n",
    "df = pd.read_csv('data/LU_dat/VSP_86303/all_together.csv.gz', compression='gzip', index_col='timestamp', parse_dates=True, date_parser=dateparse)"
   ]
  },
  {
   "cell_type": "code",
   "execution_count": 3,
   "metadata": {
    "collapsed": false,
    "deletable": true,
    "editable": true
   },
   "outputs": [
    {
     "data": {
      "image/png": "[encoded data removed]",
      "text/plain": [
       "<matplotlib.figure.Figure at 0x11435b2e8>"
      ]
     },
     "metadata": {},
     "output_type": "display_data"
    }
   ],
   "source": [
    "dataset = df[df['PQ_SVCT'] < 15000]['PQ_SVCT']\n",
    "plt.plot(dataset)\n",
    "plt.show()"
   ]
  },
  {
   "cell_type": "code",
   "execution_count": 4,
   "metadata": {
    "collapsed": false,
    "deletable": true,
    "editable": true
   },
   "outputs": [
    {
     "name": "stderr",
     "output_type": "stream",
     "text": [
      "Using TensorFlow backend.\n"
     ]
    }
   ],
   "source": [
    "import numpy\n",
    "import matplotlib.pyplot as plt\n",
    "import pandas\n",
    "import math\n",
    "from keras.models import Sequential\n",
    "from keras.layers import Dense\n",
    "from keras.layers import LSTM\n",
    "from sklearn.preprocessing import MinMaxScaler\n",
    "from sklearn.metrics import mean_squared_error"
   ]
  },
  {
   "cell_type": "code",
   "execution_count": 5,
   "metadata": {
    "collapsed": true,
    "deletable": true,
    "editable": true
   },
   "outputs": [],
   "source": [
    "# fix random seed for reproducibility\n",
    "numpy.random.seed(7)"
   ]
  },
  {
   "cell_type": "code",
   "execution_count": 8,
   "metadata": {
    "collapsed": false,
    "deletable": true,
    "editable": true
   },
   "outputs": [
    {
     "data": {
      "text/plain": [
       "array([ 2.86587501,  1.59084702,  1.50849402, ...,  4.12266397,\n",
       "        5.68448591,  4.89776421], dtype=float32)"
      ]
     },
     "execution_count": 8,
     "metadata": {},
     "output_type": "execute_result"
    }
   ],
   "source": [
    "# load the dataset\n",
    "dataframe = dataset = df[df['PQ_SVCT'] < 15000]['PQ_SVCT']\n",
    "dataset = dataframe.values\n",
    "dataset = dataset.astype('float32')"
   ]
  },
  {
   "cell_type": "code",
   "execution_count": 9,
   "metadata": {
    "collapsed": false,
    "deletable": true,
    "editable": true
   },
   "outputs": [
    {
     "name": "stderr",
     "output_type": "stream",
     "text": [
      "/usr/local/lib/python3.5/site-packages/sklearn/preprocessing/data.py:321: DeprecationWarning: Passing 1d arrays as data is deprecated in 0.17 and will raise ValueError in 0.19. Reshape your data either using X.reshape(-1, 1) if your data has a single feature or X.reshape(1, -1) if it contains a single sample.\n",
      "  warnings.warn(DEPRECATION_MSG_1D, DeprecationWarning)\n",
      "/usr/local/lib/python3.5/site-packages/sklearn/preprocessing/data.py:356: DeprecationWarning: Passing 1d arrays as data is deprecated in 0.17 and will raise ValueError in 0.19. Reshape your data either using X.reshape(-1, 1) if your data has a single feature or X.reshape(1, -1) if it contains a single sample.\n",
      "  warnings.warn(DEPRECATION_MSG_1D, DeprecationWarning)\n"
     ]
    }
   ],
   "source": [
    "# normalize the dataset\n",
    "scaler = MinMaxScaler(feature_range=(0, 1))\n",
    "dataset = scaler.fit_transform(dataset)"
   ]
  },
  {
   "cell_type": "code",
   "execution_count": 14,
   "metadata": {
    "collapsed": false,
    "deletable": true,
    "editable": true
   },
   "outputs": [
    {
     "name": "stdout",
     "output_type": "stream",
     "text": [
      "177058 87208\n"
     ]
    }
   ],
   "source": [
    "# split into train and test sets\n",
    "train_size = int(len(dataset) * 0.67)\n",
    "test_size = len(dataset) - train_size\n",
    "train, test = dataset[0:train_size], dataset[train_size:len(dataset)]\n",
    "print(len(train), len(test))"
   ]
  },
  {
   "cell_type": "code",
   "execution_count": 18,
   "metadata": {
    "collapsed": false,
    "deletable": true,
    "editable": true
   },
   "outputs": [],
   "source": [
    "# convert an array of values into a dataset matrix\n",
    "def create_dataset(dataset, look_back=1):\n",
    "\tdataX, dataY = [], []\n",
    "\tfor i in range(len(dataset)-look_back-1):\n",
    "\t\ta = dataset[i:(i+look_back)]\n",
    "\t\tdataX.append(a)\n",
    "\t\tdataY.append(dataset[i + look_back])\n",
    "\treturn numpy.array(dataX), numpy.array(dataY)"
   ]
  },
  {
   "cell_type": "code",
   "execution_count": 23,
   "metadata": {
    "collapsed": false,
    "deletable": true,
    "editable": true
   },
   "outputs": [],
   "source": [
    "# reshape into X=t and Y=t+1\n",
    "look_back = 1\n",
    "trainX, trainY = create_dataset(train, look_back)\n",
    "testX, testY = create_dataset(test, look_back)"
   ]
  },
  {
   "cell_type": "code",
   "execution_count": 24,
   "metadata": {
    "collapsed": true,
    "deletable": true,
    "editable": true
   },
   "outputs": [],
   "source": [
    "# reshape input to be [samples, time steps, features]\n",
    "trainX = numpy.reshape(trainX, (trainX.shape[0], 1, trainX.shape[1]))\n",
    "testX = numpy.reshape(testX, (testX.shape[0], 1, testX.shape[1]))"
   ]
  },
  {
   "cell_type": "code",
   "execution_count": 25,
   "metadata": {
    "collapsed": false,
    "deletable": true,
    "editable": true
   },
   "outputs": [
    {
     "name": "stdout",
     "output_type": "stream",
     "text": [
      "177058\n",
      "_________________________________________________________________\n",
      "Layer (type)                 Output Shape              Param #   \n",
      "=================================================================\n",
      "lstm_1 (LSTM)                (None, 4)                 96        \n",
      "_________________________________________________________________\n",
      "dense_1 (Dense)              (None, 1)                 5         \n",
      "=================================================================\n",
      "Total params: 101.0\n",
      "Trainable params: 101\n",
      "Non-trainable params: 0.0\n",
      "_________________________________________________________________\n"
     ]
    }
   ],
   "source": [
    "# create and fit the LSTM network\n",
    "print(len(train))\n",
    "model = Sequential()\n",
    "model.add(LSTM(4, input_shape=(1,1)))\n",
    "model.add(Dense(1))\n",
    "model.compile(loss='mean_squared_error', optimizer='adam')\n",
    "model.summary()"
   ]
  },
  {
   "cell_type": "code",
   "execution_count": 26,
   "metadata": {
    "collapsed": false,
    "deletable": true,
    "editable": true
   },
   "outputs": [
    {
     "name": "stdout",
     "output_type": "stream",
     "text": [
      "Epoch 1/100\n",
      "964s - loss: 4.4442e-04\n",
      "Epoch 2/100\n",
      "4766s - loss: 4.2845e-04\n",
      "Epoch 3/100\n",
      "807s - loss: 4.2655e-04\n",
      "Epoch 4/100\n",
      "808s - loss: 4.2548e-04\n",
      "Epoch 5/100\n",
      "806s - loss: 4.2518e-04\n",
      "Epoch 6/100\n",
      "805s - loss: 4.2466e-04\n",
      "Epoch 7/100\n",
      "807s - loss: 4.2297e-04\n",
      "Epoch 8/100\n",
      "804s - loss: 4.2270e-04\n",
      "Epoch 9/100\n",
      "805s - loss: 4.2346e-04\n",
      "Epoch 10/100\n",
      "804s - loss: 4.2268e-04\n",
      "Epoch 11/100\n",
      "805s - loss: 4.2234e-04\n",
      "Epoch 12/100\n",
      "804s - loss: 4.2348e-04\n",
      "Epoch 13/100\n",
      "806s - loss: 4.2184e-04\n",
      "Epoch 14/100\n",
      "804s - loss: 4.2206e-04\n",
      "Epoch 15/100\n",
      "805s - loss: 4.2261e-04\n",
      "Epoch 16/100\n",
      "805s - loss: 4.2258e-04\n",
      "Epoch 17/100\n",
      "806s - loss: 4.2266e-04\n",
      "Epoch 18/100\n",
      "804s - loss: 4.2107e-04\n",
      "Epoch 19/100\n",
      "804s - loss: 4.2262e-04\n",
      "Epoch 20/100\n",
      "804s - loss: 4.2155e-04\n",
      "Epoch 21/100\n",
      "804s - loss: 4.2314e-04\n",
      "Epoch 22/100\n",
      "804s - loss: 4.2218e-04\n",
      "Epoch 23/100\n",
      "805s - loss: 4.2210e-04\n",
      "Epoch 24/100\n",
      "805s - loss: 4.2281e-04\n",
      "Epoch 25/100\n",
      "816s - loss: 4.2224e-04\n",
      "Epoch 26/100\n",
      "805s - loss: 4.2288e-04\n",
      "Epoch 27/100\n",
      "804s - loss: 4.2204e-04\n",
      "Epoch 28/100\n",
      "806s - loss: 4.2201e-04\n",
      "Epoch 29/100\n",
      "805s - loss: 4.2189e-04\n",
      "Epoch 30/100\n",
      "803s - loss: 4.2165e-04\n",
      "Epoch 31/100\n",
      "811s - loss: 4.2269e-04\n",
      "Epoch 32/100\n",
      "812s - loss: 4.2086e-04\n",
      "Epoch 33/100\n",
      "806s - loss: 4.2152e-04\n",
      "Epoch 34/100\n",
      "805s - loss: 4.2198e-04\n",
      "Epoch 35/100\n",
      "807s - loss: 4.2229e-04\n",
      "Epoch 36/100\n",
      "811s - loss: 4.2183e-04\n",
      "Epoch 37/100\n",
      "811s - loss: 4.2218e-04\n",
      "Epoch 38/100\n",
      "807s - loss: 4.2261e-04\n",
      "Epoch 39/100\n",
      "806s - loss: 4.2200e-04\n",
      "Epoch 40/100\n",
      "808s - loss: 4.2200e-04\n",
      "Epoch 41/100\n",
      "804s - loss: 4.2190e-04\n",
      "Epoch 42/100\n",
      "807s - loss: 4.2131e-04\n",
      "Epoch 43/100\n",
      "810s - loss: 4.2032e-04\n",
      "Epoch 44/100\n",
      "806s - loss: 4.2126e-04\n",
      "Epoch 45/100\n",
      "806s - loss: 4.2105e-04\n",
      "Epoch 46/100\n",
      "817s - loss: 4.2135e-04\n",
      "Epoch 47/100\n",
      "817s - loss: 4.2148e-04\n",
      "Epoch 48/100\n",
      "805s - loss: 4.2189e-04\n",
      "Epoch 49/100\n",
      "804s - loss: 4.2185e-04\n",
      "Epoch 50/100\n",
      "818s - loss: 4.2115e-04\n",
      "Epoch 51/100\n",
      "814s - loss: 4.2245e-04\n",
      "Epoch 52/100\n",
      "819s - loss: 4.2146e-04\n",
      "Epoch 53/100\n",
      "807s - loss: 4.2116e-04\n",
      "Epoch 54/100\n",
      "816s - loss: 4.2203e-04\n",
      "Epoch 55/100\n",
      "810s - loss: 4.1995e-04\n",
      "Epoch 56/100\n",
      "822s - loss: 4.2088e-04\n",
      "Epoch 57/100\n",
      "808s - loss: 4.2053e-04\n",
      "Epoch 58/100\n",
      "816s - loss: 4.2137e-04\n",
      "Epoch 59/100\n",
      "810s - loss: 4.2105e-04\n",
      "Epoch 60/100\n",
      "813s - loss: 4.2088e-04\n",
      "Epoch 61/100\n",
      "816s - loss: 4.2087e-04\n",
      "Epoch 62/100\n",
      "807s - loss: 4.2135e-04\n",
      "Epoch 63/100\n",
      "809s - loss: 4.2186e-04\n",
      "Epoch 64/100\n",
      "816s - loss: 4.2081e-04\n",
      "Epoch 65/100\n",
      "807s - loss: 4.2203e-04\n",
      "Epoch 66/100\n",
      "806s - loss: 4.2066e-04\n",
      "Epoch 67/100\n",
      "836s - loss: 4.2130e-04\n",
      "Epoch 68/100\n",
      "826s - loss: 4.2019e-04\n",
      "Epoch 69/100\n",
      "816s - loss: 4.2142e-04\n",
      "Epoch 70/100\n",
      "826s - loss: 4.2092e-04\n",
      "Epoch 71/100\n",
      "814s - loss: 4.2254e-04\n",
      "Epoch 72/100\n",
      "812s - loss: 4.2128e-04\n",
      "Epoch 73/100\n",
      "815s - loss: 4.2106e-04\n",
      "Epoch 74/100\n",
      "809s - loss: 4.2151e-04\n",
      "Epoch 75/100\n",
      "807s - loss: 4.2150e-04\n",
      "Epoch 76/100\n",
      "805s - loss: 4.2085e-04\n",
      "Epoch 77/100\n",
      "804s - loss: 4.2088e-04\n",
      "Epoch 78/100\n",
      "805s - loss: 4.2111e-04\n",
      "Epoch 79/100\n",
      "804s - loss: 4.2139e-04\n",
      "Epoch 80/100\n",
      "804s - loss: 4.2126e-04\n",
      "Epoch 81/100\n",
      "806s - loss: 4.2160e-04\n",
      "Epoch 82/100\n",
      "806s - loss: 4.2140e-04\n",
      "Epoch 83/100\n",
      "804s - loss: 4.2115e-04\n",
      "Epoch 84/100\n",
      "804s - loss: 4.2021e-04\n",
      "Epoch 85/100\n",
      "805s - loss: 4.2061e-04\n",
      "Epoch 86/100\n",
      "804s - loss: 4.2243e-04\n",
      "Epoch 87/100\n",
      "807s - loss: 4.2149e-04\n",
      "Epoch 88/100\n",
      "808s - loss: 4.2165e-04\n",
      "Epoch 89/100\n",
      "807s - loss: 4.2117e-04\n",
      "Epoch 90/100\n",
      "807s - loss: 4.2165e-04\n",
      "Epoch 91/100\n",
      "808s - loss: 4.2157e-04\n",
      "Epoch 92/100\n",
      "808s - loss: 4.2182e-04\n",
      "Epoch 93/100\n",
      "808s - loss: 4.2120e-04\n",
      "Epoch 94/100\n",
      "816s - loss: 4.2021e-04\n",
      "Epoch 95/100\n",
      "817s - loss: 4.2114e-04\n",
      "Epoch 96/100\n",
      "807s - loss: 4.2222e-04\n",
      "Epoch 97/100\n",
      "808s - loss: 4.2232e-04\n",
      "Epoch 98/100\n",
      "807s - loss: 4.2105e-04\n",
      "Epoch 99/100\n",
      "810s - loss: 4.2252e-04\n",
      "Epoch 100/100\n",
      "806s - loss: 4.2182e-04\n"
     ]
    },
    {
     "data": {
      "text/plain": [
       "<keras.callbacks.History at 0x11989fa20>"
      ]
     },
     "execution_count": 26,
     "metadata": {},
     "output_type": "execute_result"
    }
   ],
   "source": [
    "model.fit(trainX, trainY, epochs=100, batch_size=1, verbose=2)"
   ]
  },
  {
   "cell_type": "code",
   "execution_count": 27,
   "metadata": {
    "collapsed": false,
    "deletable": true,
    "editable": true
   },
   "outputs": [
    {
     "name": "stdout",
     "output_type": "stream",
     "text": [
      "Train Score: 1.09 RMSE\n",
      "Test Score: 1.09 RMSE\n"
     ]
    }
   ],
   "source": [
    "# make predictions\n",
    "trainPredict = model.predict(trainX)\n",
    "testPredict = model.predict(testX)\n",
    "# invert predictions\n",
    "trainPredict = scaler.inverse_transform(trainPredict)\n",
    "trainY = scaler.inverse_transform([trainY])\n",
    "testPredict = scaler.inverse_transform(testPredict)\n",
    "testY = scaler.inverse_transform([testY])\n",
    "# calculate root mean squared error\n",
    "trainScore = math.sqrt(mean_squared_error(trainY[0], trainPredict[:,0]))\n",
    "print('Train Score: %.2f RMSE' % (trainScore))\n",
    "testScore = math.sqrt(mean_squared_error(testY[0], testPredict[:,0]))\n",
    "print('Test Score: %.2f RMSE' % (testScore))"
   ]
  },
  {
   "cell_type": "code",
   "execution_count": 52,
   "metadata": {
    "collapsed": false
   },
   "outputs": [
    {
     "name": "stdout",
     "output_type": "stream",
     "text": [
      "1\n",
      "177057\n"
     ]
    },
    {
     "data": {
      "text/plain": [
       "array([ 2.9337337 ,  1.744452  ,  1.66372097, ...,  1.35196185,\n",
       "        1.46142542,  1.44190359], dtype=float32)"
      ]
     },
     "execution_count": 52,
     "metadata": {},
     "output_type": "execute_result"
    }
   ],
   "source": [
    "trainPredictPlot = numpy.empty_like(dataset)\n",
    "trainPredictPlot[:] = numpy.nan\n",
    "trainPredictPlot\n",
    "print(look_back)\n",
    "print(len(trainPredict)+look_back)\n",
    "trainPredict\n",
    "np.reshape(trainPredict, len(trainPredict))"
   ]
  },
  {
   "cell_type": "code",
   "execution_count": 54,
   "metadata": {
    "collapsed": false,
    "deletable": true,
    "editable": true
   },
   "outputs": [
    {
     "ename": "AttributeError",
     "evalue": "module 'numpy' has no attribute 'teshape'",
     "output_type": "error",
     "traceback": [
      "\u001b[0;31m---------------------------------------------------------------------------\u001b[0m",
      "\u001b[0;31mAttributeError\u001b[0m                            Traceback (most recent call last)",
      "\u001b[0;32m<ipython-input-54-8b7c694b4414>\u001b[0m in \u001b[0;36m<module>\u001b[0;34m()\u001b[0m\n\u001b[1;32m      6\u001b[0m \u001b[0mtestPredictPlot\u001b[0m \u001b[0;34m=\u001b[0m \u001b[0mnumpy\u001b[0m\u001b[0;34m.\u001b[0m\u001b[0mempty_like\u001b[0m\u001b[0;34m(\u001b[0m\u001b[0mdataset\u001b[0m\u001b[0;34m)\u001b[0m\u001b[0;34m\u001b[0m\u001b[0m\n\u001b[1;32m      7\u001b[0m \u001b[0mtestPredictPlot\u001b[0m\u001b[0;34m[\u001b[0m\u001b[0;34m:\u001b[0m\u001b[0;34m]\u001b[0m \u001b[0;34m=\u001b[0m \u001b[0mnumpy\u001b[0m\u001b[0;34m.\u001b[0m\u001b[0mnan\u001b[0m\u001b[0;34m\u001b[0m\u001b[0m\n\u001b[0;32m----> 8\u001b[0;31m \u001b[0mtestPredictPlot\u001b[0m\u001b[0;34m[\u001b[0m\u001b[0mlen\u001b[0m\u001b[0;34m(\u001b[0m\u001b[0mtrainPredict\u001b[0m\u001b[0;34m)\u001b[0m\u001b[0;34m+\u001b[0m\u001b[0;34m(\u001b[0m\u001b[0mlook_back\u001b[0m\u001b[0;34m*\u001b[0m\u001b[0;36m2\u001b[0m\u001b[0;34m)\u001b[0m\u001b[0;34m+\u001b[0m\u001b[0;36m1\u001b[0m\u001b[0;34m:\u001b[0m\u001b[0mlen\u001b[0m\u001b[0;34m(\u001b[0m\u001b[0mdataset\u001b[0m\u001b[0;34m)\u001b[0m\u001b[0;34m-\u001b[0m\u001b[0;36m1\u001b[0m\u001b[0;34m]\u001b[0m \u001b[0;34m=\u001b[0m \u001b[0mnp\u001b[0m\u001b[0;34m.\u001b[0m\u001b[0mteshape\u001b[0m\u001b[0;34m(\u001b[0m\u001b[0mtestPredict\u001b[0m\u001b[0;34m,\u001b[0m \u001b[0mlen\u001b[0m\u001b[0;34m(\u001b[0m\u001b[0mtestPredict\u001b[0m\u001b[0;34m)\u001b[0m\u001b[0;34m)\u001b[0m\u001b[0;34m\u001b[0m\u001b[0m\n\u001b[0m\u001b[1;32m      9\u001b[0m \u001b[0;31m# plot baseline and predictions\u001b[0m\u001b[0;34m\u001b[0m\u001b[0;34m\u001b[0m\u001b[0m\n\u001b[1;32m     10\u001b[0m \u001b[0mplt\u001b[0m\u001b[0;34m.\u001b[0m\u001b[0mplot\u001b[0m\u001b[0;34m(\u001b[0m\u001b[0mscaler\u001b[0m\u001b[0;34m.\u001b[0m\u001b[0minverse_transform\u001b[0m\u001b[0;34m(\u001b[0m\u001b[0mdataset\u001b[0m\u001b[0;34m)\u001b[0m\u001b[0;34m)\u001b[0m\u001b[0;34m\u001b[0m\u001b[0m\n",
      "\u001b[0;31mAttributeError\u001b[0m: module 'numpy' has no attribute 'teshape'"
     ]
    }
   ],
   "source": [
    "# shift train predictions for plotting\n",
    "trainPredictPlot = numpy.empty_like(dataset)\n",
    "trainPredictPlot[:] = numpy.nan\n",
    "trainPredictPlot[look_back:len(trainPredict)+look_back] = np.reshape(trainPredict, len(trainPredict))\n",
    "# shift test predictions for plotting\n",
    "testPredictPlot = numpy.empty_like(dataset)\n",
    "testPredictPlot[:] = numpy.nan\n",
    "testPredictPlot[len(trainPredict)+(look_back*2)+1:len(dataset)-1] = np.teshape(testPredict, len(testPredict))\n",
    "# plot baseline and predictions\n",
    "plt.plot(scaler.inverse_transform(dataset))\n",
    "plt.plot(trainPredictPlot)\n",
    "plt.plot(testPredictPlot)\n",
    "plt.show()"
   ]
  },
  {
   "cell_type": "code",
   "execution_count": null,
   "metadata": {
    "collapsed": true,
    "deletable": true,
    "editable": true
   },
   "outputs": [],
   "source": []
  }
 ],
 "metadata": {
  "kernelspec": {
   "display_name": "Python 3",
   "language": "python",
   "name": "python3"
  },
  "language_info": {
   "codemirror_mode": {
    "name": "ipython",
    "version": 3
   },
   "file_extension": ".py",
   "mimetype": "text/x-python",
   "name": "python",
   "nbconvert_exporter": "python",
   "pygments_lexer": "ipython3",
   "version": "3.5.1"
  }
 },
 "nbformat": 4,
 "nbformat_minor": 2
}
